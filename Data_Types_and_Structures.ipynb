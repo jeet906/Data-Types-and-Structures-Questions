{
  "nbformat": 4,
  "nbformat_minor": 0,
  "metadata": {
    "colab": {
      "provenance": []
    },
    "kernelspec": {
      "name": "python3",
      "display_name": "Python 3"
    },
    "language_info": {
      "name": "python"
    }
  },
  "cells": [
    {
      "cell_type": "markdown",
      "source": [
        "#Data Types and Structures\n"
      ],
      "metadata": {
        "id": "u3pCIbmNzZ04"
      }
    },
    {
      "cell_type": "markdown",
      "source": [
        "1. What are data structures, and why are they important"
      ],
      "metadata": {
        "id": "hmyTuM1F0PR8"
      }
    },
    {
      "cell_type": "markdown",
      "source": [
        "-  Data structures are specialized formats for organizing, storing, and managing data in a way that enables efficient access and modification. They are fundamental in computer science and software development because they provide the foundation for designing efficient algorithms."
      ],
      "metadata": {
        "id": "hJ2Bol8i0bqV"
      }
    },
    {
      "cell_type": "markdown",
      "source": [
        "🧱 Common Types of Data Structures\n",
        "\n",
        "Here are a few widely used data structures:"
      ],
      "metadata": {
        "id": "wv1DWtBU20Sa"
      }
    },
    {
      "cell_type": "markdown",
      "source": [
        "**Type**\n",
        "\n",
        "Array\n",
        "- \tA collection of items stored at contiguous memory locations.\n",
        "\n",
        "Linked List\n",
        "- \tA sequence of nodes, where each node points to the next one.\n",
        "\n",
        "Stack\n",
        "- \tFollows LIFO (Last In, First Out) principle.\n",
        "\n",
        "Queue\n",
        "- \tFollows FIFO (First In, First Out) principle.\n",
        "\n",
        "Hash Table\n",
        "- \tStores key-value pairs for fast lookup.\n",
        "\n",
        "Tree\n",
        "- \tA hierarchical structure (like a family tree), commonly used in databases.\n",
        "\n",
        "Graph\n",
        "- \tRepresents a set of connected nodes or vertices.\n",
        "\n",
        "Heap\n",
        "- A special tree-based structure used in priority queues."
      ],
      "metadata": {
        "id": "sz5OpF6Z4IhT"
      }
    },
    {
      "cell_type": "markdown",
      "source": [
        "**🚀 Why Data Structures Are Important**"
      ],
      "metadata": {
        "id": "a81TFzdK5T1R"
      }
    },
    {
      "cell_type": "markdown",
      "source": [
        "1. Efficiency\n",
        "-\n",
        "Good data structures allow for fast data access, insertion, deletion, and updating, improving overall software performance."
      ],
      "metadata": {
        "id": "vj1oMf025aRt"
      }
    },
    {
      "cell_type": "markdown",
      "source": [
        "2. Organization\n",
        "-\n",
        "Helps manage large amounts of data in a systematic way, making programs easier to understand and maintain.\n",
        "\n",
        "\n",
        "3. Scalability\n",
        "\n",
        "- Efficient data structures help applications scale with growing data sizes.\n",
        "\n",
        "\n",
        "4. Algorithm Optimization\n",
        "-\n",
        "The right data structure can reduce the complexity of an algorithm (e.g., from O(n²) to O(log n)).\n",
        "\n",
        "\n",
        "5. Problem Solving\n",
        "-\n",
        "Many coding problems (especially in interviews) test your understanding of data structures because they’re essential to algorithmic thinking."
      ],
      "metadata": {
        "id": "4IgJ68cs5j3K"
      }
    },
    {
      "cell_type": "markdown",
      "source": [
        "**🧠 Example**\n",
        "\n",
        "Suppose you need to check whether a webpage has already been visited:\n",
        "-\n",
        "Using an array, you might have to search through the list (O(n) time).\n",
        "-\n",
        "Using a hash table, you can check in O(1) time on average."
      ],
      "metadata": {
        "id": "LG1NmmRO6Ux1"
      }
    },
    {
      "cell_type": "markdown",
      "source": [
        "2.  Explain the difference between mutable and immutable data types with examples"
      ],
      "metadata": {
        "id": "Fjia61N-6nOc"
      }
    },
    {
      "cell_type": "markdown",
      "source": [
        "🔁 Mutable vs Immutable: The Core Idea\n",
        "-\n",
        "Mutable data types: Can be changed after they are created.\n",
        "-\n",
        "Immutable data types: Cannot be changed once they are created. Any \"change\" creates a new object."
      ],
      "metadata": {
        "id": "iEBnUOnB6rsZ"
      }
    },
    {
      "cell_type": "markdown",
      "source": [
        "\n",
        "**🧪 Examples in Python**\n",
        "\n",
        "✅ Mutable Types:\n",
        "\n",
        "These can be modified after creation."
      ],
      "metadata": {
        "id": "jtWoGo6r7ArW"
      }
    },
    {
      "cell_type": "markdown",
      "source": [
        "| Data Type      | Example               |\n",
        "| -------------- | --------------------- |\n",
        "| **List**       | `my_list = [1, 2, 3]` |\n",
        "| **Dictionary** | `my_dict = {'a': 1}`  |\n",
        "| **Set**        | `my_set = {1, 2, 3}`  |\n"
      ],
      "metadata": {
        "id": "tgu2bvib7O4G"
      }
    },
    {
      "cell_type": "code",
      "source": [
        "my_list = [1, 2, 3]\n",
        "my_list.append(4)\n",
        "print(my_list)  # Output: [1, 2, 3, 4]\n"
      ],
      "metadata": {
        "id": "uIIRzinL7k_d"
      },
      "execution_count": null,
      "outputs": []
    },
    {
      "cell_type": "markdown",
      "source": [
        "✅ The list changed. It's mutable."
      ],
      "metadata": {
        "id": "TROuzC_E7fr-"
      }
    },
    {
      "cell_type": "markdown",
      "source": [
        "❌ Immutable Types:\n",
        "\n",
        "Once created, they cannot be changed."
      ],
      "metadata": {
        "id": "1aloYRjB7uDz"
      }
    },
    {
      "cell_type": "markdown",
      "source": [
        "| Data Type     | Example                     |\n",
        "| ------------- | --------------------------- |\n",
        "| **int**       | `x = 10`                    |\n",
        "| **float**     | `pi = 3.14`                 |\n",
        "| **str**       | `name = \"Alice\"`            |\n",
        "| **tuple**     | `t = (1, 2, 3)`             |\n",
        "| **frozenset** | `fs = frozenset([1, 2, 3])` |\n"
      ],
      "metadata": {
        "id": "yHkjiFh07xI_"
      }
    },
    {
      "cell_type": "markdown",
      "source": [
        "name = \"Alice\"\n",
        "name[0] = \"M\"  # ❌ This will raise an error\n"
      ],
      "metadata": {
        "id": "xAugNiqZ7z_J"
      }
    },
    {
      "cell_type": "markdown",
      "source": [
        "To \"change\" a string:"
      ],
      "metadata": {
        "id": "8cKRqFXz7yCK"
      }
    },
    {
      "cell_type": "code",
      "source": [
        "name = \"Alice\"\n",
        "new_name = \"M\" + name[1:]\n",
        "print(new_name)  # Output: \"Mlice\"\n"
      ],
      "metadata": {
        "id": "Wsj3J3z078bn"
      },
      "execution_count": null,
      "outputs": []
    },
    {
      "cell_type": "markdown",
      "source": [
        "🔁 A new string is created — the original is unchanged."
      ],
      "metadata": {
        "id": "J8pJpt6d8AV7"
      }
    },
    {
      "cell_type": "markdown",
      "source": [
        "**🧠 Why It Matters**\n",
        "-\n",
        "Performance: - Immutable objects are often faster and safer for use in concurrent or functional programming.\n",
        "-\n",
        "Hashability: Only immutable types can be used as keys in dictionaries or elements in sets.\n",
        "-\n",
        "Debugging: Mutable objects can be modified by mistake if you're not careful with references."
      ],
      "metadata": {
        "id": "aujJFGWG8FZj"
      }
    },
    {
      "cell_type": "markdown",
      "source": [
        "🔍 Summary Table"
      ],
      "metadata": {
        "id": "woIHLh-j8Uuz"
      }
    },
    {
      "cell_type": "markdown",
      "source": [
        "| Feature           | Mutable                        | Immutable                   |\n",
        "| ----------------- | ------------------------------ | --------------------------- |\n",
        "| Can be changed?   | Yes                            | No                          |\n",
        "| Examples          | List, Dict, Set                | Int, Str, Tuple, Float      |\n",
        "| Used as dict key? | No (usually)                   | Yes                         |\n",
        "| Copies behavior   | Changes original unless copied | Always creates a new object |\n"
      ],
      "metadata": {
        "id": "pl_jD5dL8V2B"
      }
    },
    {
      "cell_type": "markdown",
      "source": [
        "3. What are the main differences between lists and tuples in Python"
      ],
      "metadata": {
        "id": "3QAGY2dw8haB"
      }
    },
    {
      "cell_type": "markdown",
      "source": [
        "- main differences between lists and tuples in Python:"
      ],
      "metadata": {
        "id": "zhxlurcQ8tOB"
      }
    },
    {
      "cell_type": "markdown",
      "source": [
        "🔑 Key Differences Between Lists and Tuples"
      ],
      "metadata": {
        "id": "4cTpyr8-89Ts"
      }
    },
    {
      "cell_type": "markdown",
      "source": [
        "| Feature             | **List**                           | **Tuple**                                |\n",
        "| ------------------- | ---------------------------------- | ---------------------------------------- |\n",
        "| **Mutability**      | ✅ Mutable (can be changed)         | ❌ Immutable (cannot be changed)          |\n",
        "| **Syntax**          | Square brackets: `[ ]`             | Parentheses: `( )`                       |\n",
        "| **Performance**     | Slightly slower                    | Slightly faster (because immutable)      |\n",
        "| **Methods**         | Many (e.g., `.append()`, `.pop()`) | Few (`.count()`, `.index()`)             |\n",
        "| **Can be dict key** | ❌ No                               | ✅ Yes (if elements are also immutable)   |\n",
        "| **Use cases**       | For changing data, dynamic size    | For fixed data, safer and more efficient |\n",
        "| **Memory usage**    | Uses more memory                   | Uses less memory                         |\n"
      ],
      "metadata": {
        "id": "QPyJeV068_gF"
      }
    },
    {
      "cell_type": "code",
      "source": [
        "# List (mutable)\n",
        "my_list = [1, 2, 3]\n",
        "my_list.append(4)\n",
        "print(my_list)  # [1, 2, 3, 4]\n",
        "\n",
        "# Tuple (immutable)\n",
        "my_tuple = (1, 2, 3)\n",
        "# my_tuple[0] = 10  # ❌ TypeError: 'tuple' object does not support item assignment\n"
      ],
      "metadata": {
        "id": "xcDnqNpv9DVe"
      },
      "execution_count": null,
      "outputs": []
    },
    {
      "cell_type": "markdown",
      "source": [
        "\n",
        "**🧠 When to Use What?**\n",
        "\n",
        "Use a list when:\n",
        "-\n",
        "You need to add, remove, or change items.\n",
        "-\n",
        "The data is dynamic or likely to change.\n",
        "\n",
        "\n",
        "Use a tuple when:\n",
        "-\n",
        "The data should not change (e.g. coordinates, fixed configuration).\n",
        "-\n",
        "You need to use it as a key in a dictionary.\n",
        "*\n",
        "You want slightly better performance or memory efficiency."
      ],
      "metadata": {
        "id": "N_9AplpH9Ba4"
      }
    },
    {
      "cell_type": "markdown",
      "source": [
        "4. Describe how dictionaries store data"
      ],
      "metadata": {
        "id": "JyS1tqjF97Wn"
      }
    },
    {
      "cell_type": "markdown",
      "source": [
        "* In Python (and in computer science generally), a dictionary is a hash table–based data structure that stores key–value pairs."
      ],
      "metadata": {
        "id": "vfrMp56F-wMY"
      }
    },
    {
      "cell_type": "markdown",
      "source": [
        "**🔑 How dictionaries work internally:**\n",
        "\n",
        "1.\n",
        "Hashing the Key\n",
        "\n",
        "*\n",
        "When you store something like my_dict[\"apple\"] = 10, Python first takes the key \"apple\" and runs it through a hash function (hash(\"apple\")).\n",
        "-\n",
        "This produces a fixed-size integer called a hash value.\n",
        "2.\n",
        "Finding a Slot (Bucket)\n",
        "-\n",
        "That hash value is mapped to a position (an index) in an internal array of slots.\n",
        "-\n",
        "Each slot stores a key–value pair (or a reference to it).\n",
        "\n",
        "**Example:**"
      ],
      "metadata": {
        "id": "S0_WKViR-7Hb"
      }
    },
    {
      "cell_type": "code",
      "source": [
        "hash(\"apple\") → 42\n",
        "slot = 42 % table_size\n"
      ],
      "metadata": {
        "id": "x0uDvYif_b5C"
      },
      "execution_count": null,
      "outputs": []
    },
    {
      "cell_type": "markdown",
      "source": [
        "3. Storing the Key and Value\n",
        "\n",
        "-\n",
        "The dictionary keeps both the key and value in that slot.\n",
        "-\n",
        "Keys are stored because hash collisions can happen (different keys producing the same slot). To be sure, Python checks the actual key for equality (==) when needed.\n",
        "4.\n",
        "Handling Collisions\n",
        "\n",
        "-\n",
        "If two keys land in the same slot, Python uses open addressing with probing (it looks for the next free slot in the array).\n",
        "-\n",
        "This ensures no data is lost when collisions occur.\n",
        "5.\n",
        "Resizing\n",
        "-\n",
        "If the dictionary gets too full (usually ~2/3 capacity), Python automatically resizes the internal array to a larger one.\n",
        "-\n",
        "It then rehashes and redistributes all the existing key–value pairs into the new array."
      ],
      "metadata": {
        "id": "GBTVVQPa_c66"
      }
    },
    {
      "cell_type": "markdown",
      "source": [
        "⚡ Operations\n",
        "\n",
        "-\n",
        "Insert/Update: O(1) on average (just hash → slot → store).\n",
        "-\n",
        "Lookup: O(1) on average (hash → slot → check key → return value).\n",
        "-\n",
        "Delete: O(1) average (mark slot as deleted and adjust table).\n",
        "\n",
        "\n",
        "✅ Example"
      ],
      "metadata": {
        "id": "YMPb7Um3_2T9"
      }
    },
    {
      "cell_type": "code",
      "source": [
        "my_dict = {\"apple\": 10, \"banana\": 20}\n"
      ],
      "metadata": {
        "id": "RbjQ9KXqAAlf"
      },
      "execution_count": null,
      "outputs": []
    },
    {
      "cell_type": "markdown",
      "source": [
        "my_dict = {\"apple\": 10, \"banana\": 20}\n",
        "-\n",
        "\"apple\" → hash → slot X → stores (\"apple\", 10)\n",
        "-\n",
        "\"banana\" → hash → slot Y → stores (\"banana\", 20)\n",
        "\n",
        "\n",
        "When you do my_dict[\"apple\"], Python:\n",
        "\n",
        "1.\n",
        "Hashes \"apple\",\n",
        "\n",
        "2.\n",
        "Jumps directly to slot X,\n",
        "\n",
        "3.\n",
        "Confirms key match,\n",
        "\n",
        "4.\n",
        "Returns 10."
      ],
      "metadata": {
        "id": "dx6KPGlbAHC4"
      }
    },
    {
      "cell_type": "markdown",
      "source": [
        "👉 So in short:\n",
        "Dictionaries in Python store data using a hash table where keys are hashed to determine their storage slot in an internal array, with collision handling and automatic resizing for efficiency."
      ],
      "metadata": {
        "id": "8T8irC-MArAM"
      }
    },
    {
      "cell_type": "markdown",
      "source": [
        "5. Why might you use a set instead of a list in Python:"
      ],
      "metadata": {
        "id": "jpgP5zcWBBvM"
      }
    },
    {
      "cell_type": "markdown",
      "source": [
        "**✅ When you might use a set instead of a list:**\n",
        "\n",
        "1.\n",
        "Uniqueness of elements\n",
        "-\n",
        "A set automatically removes duplicates."
      ],
      "metadata": {
        "id": "SUDjXPaoBIUI"
      }
    },
    {
      "cell_type": "code",
      "source": [
        "my_list = [1, 2, 2, 3]\n",
        "my_set = set(my_list)   # {1, 2, 3}\n"
      ],
      "metadata": {
        "id": "49h3YYCiBi94"
      },
      "execution_count": null,
      "outputs": []
    },
    {
      "cell_type": "markdown",
      "source": [
        "2. Fast membership testing (in)\n",
        "-\n",
        "\n",
        "Checking if an item exists is much faster with a set (O(1) average) than with a list (O(n)), since sets use hashing internally."
      ],
      "metadata": {
        "id": "93RPx5UoBkxy"
      }
    },
    {
      "cell_type": "code",
      "source": [
        "nums = [1, 2, 3, 4, 5]\n",
        "print(1000 in nums)   # slow for large lists\n",
        "nums_set = set(nums)\n",
        "print(1000 in nums_set)  # very fast\n"
      ],
      "metadata": {
        "id": "syFO_IlPB2_x"
      },
      "execution_count": null,
      "outputs": []
    },
    {
      "cell_type": "markdown",
      "source": [
        "3. Set operations (mathematical)\n",
        "-\n",
        "\n",
        "Sets support union, intersection, difference, etc., which lists don’t directly."
      ],
      "metadata": {
        "id": "-mIXJLN4B0Ti"
      }
    },
    {
      "cell_type": "code",
      "source": [
        "a = {1, 2, 3}\n",
        "b = {3, 4, 5}\n",
        "print(a | b)  # union → {1, 2, 3, 4, 5}\n",
        "print(a & b)  # intersection → {3}\n"
      ],
      "metadata": {
        "id": "7IVZGrKwCBnd"
      },
      "execution_count": null,
      "outputs": []
    },
    {
      "cell_type": "markdown",
      "source": [
        "4. No need for ordering\n",
        "-\n",
        "\n",
        "If you don’t care about preserving the order of items, a set is more efficient. Lists preserve insertion order; sets don’t (before Python 3.7)."
      ],
      "metadata": {
        "id": "2gQnH03TCCm5"
      }
    },
    {
      "cell_type": "markdown",
      "source": [
        "⚠️ When NOT to use a set\n",
        "-\n",
        "\n",
        "If you need duplicate values (e.g., [1,1,2,2]).\n",
        "-\n",
        "If you need ordering or index-based access (my_list[0]).\n",
        "-\n",
        "If elements are unhashable (e.g., lists, dicts can’t go inside a set)."
      ],
      "metadata": {
        "id": "ChYwRC9uCOAJ"
      }
    },
    {
      "cell_type": "markdown",
      "source": [
        "👉 Summary:\n",
        "\n",
        "Use a set when you need unique, unordered elements and fast membership checks. Use a list when you need ordering, duplicates, or indexing."
      ],
      "metadata": {
        "id": "Yrrz1SfFCRtI"
      }
    },
    {
      "cell_type": "markdown",
      "source": [
        "6. What is a string in Python, and how is it different from a list"
      ],
      "metadata": {
        "id": "jMovDslzC0AU"
      }
    },
    {
      "cell_type": "markdown",
      "source": [
        "**🔤 What is a string in Python?**\n",
        "-\n",
        "\n",
        "A string is a sequence of characters, enclosed in quotes ('hello', \"world\", or \"\"\"multiline\"\"\").\n",
        "-\n",
        "Example:"
      ],
      "metadata": {
        "id": "pmbIj-tQDFCH"
      }
    },
    {
      "cell_type": "code",
      "source": [
        "my_str = \"Python\"\n"
      ],
      "metadata": {
        "id": "sDEauMTQDOTc"
      },
      "execution_count": null,
      "outputs": []
    },
    {
      "cell_type": "markdown",
      "source": [
        "- Internally, \"Python\" is stored as:\n",
        "['P', 'y', 't', 'h', 'o', 'n'] (sequence of Unicode characters)."
      ],
      "metadata": {
        "id": "XCx8HlrSDQkG"
      }
    },
    {
      "cell_type": "markdown",
      "source": [
        "📋 How is it different from a list?"
      ],
      "metadata": {
        "id": "5qjrkJAZDb8E"
      }
    },
    {
      "cell_type": "markdown",
      "source": [
        "| Feature              | **String**                                                            | **List**                                                 |\n",
        "| -------------------- | --------------------------------------------------------------------- | -------------------------------------------------------- |\n",
        "| **Type of elements** | Only characters (text)                                                | Any data type (numbers, strings, objects, even lists)    |\n",
        "| **Mutability**       | **Immutable** (cannot be changed after creation)                      | **Mutable** (elements can be added, removed, modified)   |\n",
        "| **Syntax**           | `\"hello\"` or `'hello'`                                                | `[1, 2, 3]`                                              |\n",
        "| **Indexing**         | Yes (e.g., `\"Python\"[0] → 'P'`)                                       | Yes (e.g., `[10, 20, 30][0] → 10`)                       |\n",
        "| **Slicing**          | Yes (e.g., `\"Python\"[0:3] → 'Pyt'`)                                   | Yes (e.g., `[10,20,30][0:2] → [10,20]`)                  |\n",
        "| **Modification**     | ❌ Not allowed: `my_str[0] = \"J\"` → error                              | ✅ Allowed: `my_list[0] = 99`                             |\n",
        "| **Methods**          | Rich set of string methods (`.upper()`, `.lower()`, `.split()`, etc.) | List methods (`.append()`, `.remove()`, `.sort()`, etc.) |\n"
      ],
      "metadata": {
        "id": "079yv0fqDdGQ"
      }
    },
    {
      "cell_type": "markdown",
      "source": [
        "✅ Example"
      ],
      "metadata": {
        "id": "Rwwyw2LNDhMR"
      }
    },
    {
      "cell_type": "code",
      "source": [
        "# String\n",
        "s = \"hello\"\n",
        "print(s[1])       # 'e'\n",
        "# s[0] = 'H'      # ❌ Error: strings are immutable\n",
        "\n",
        "# List\n",
        "lst = [10, 20, 30]\n",
        "print(lst[1])     # 20\n",
        "lst[0] = 99       # ✅ Works (lists are mutable)\n",
        "print(lst)        # [99, 20, 30]\n"
      ],
      "metadata": {
        "id": "a-ZRkI4qDkeN"
      },
      "execution_count": null,
      "outputs": []
    },
    {
      "cell_type": "markdown",
      "source": [
        "👉 In short:\n",
        "-\n",
        "\n",
        "A string is an immutable sequence of characters (used for text).\n",
        "-\n",
        "A list is a mutable sequence that can hold any type of objects.\n"
      ],
      "metadata": {
        "id": "YLvBBe27Dj-D"
      }
    },
    {
      "cell_type": "markdown",
      "source": [
        "7. How do tuples ensure data integrity in Python"
      ],
      "metadata": {
        "id": "F4E-D50zD8e4"
      }
    },
    {
      "cell_type": "markdown",
      "source": [
        "**📦 What is a tuple?**\n",
        "-\n",
        "\n",
        "A tuple in Python is an ordered, immutable sequence of elements.\n",
        "Example:"
      ],
      "metadata": {
        "id": "687Z91cgEYG2"
      }
    },
    {
      "cell_type": "code",
      "source": [
        "point = (10, 20)\n"
      ],
      "metadata": {
        "id": "6F-WzBdDEdoN"
      },
      "execution_count": null,
      "outputs": []
    },
    {
      "cell_type": "markdown",
      "source": [
        "🔐 How tuples ensure data integrity\n",
        "\n",
        "1.\n",
        "Immutability (cannot be changed after creation)\n",
        "-\n",
        "Once a tuple is created, its contents cannot be modified (no adding, removing, or changing elements).\n",
        "-\n",
        "This prevents accidental modification of important data."
      ],
      "metadata": {
        "id": "ZzM3Y3VsE4bt"
      }
    },
    {
      "cell_type": "code",
      "source": [
        "t = (1, 2, 3)\n",
        "# t[0] = 99   ❌ Error\n"
      ],
      "metadata": {
        "id": "4cx35sdKFFzn"
      },
      "execution_count": null,
      "outputs": []
    },
    {
      "cell_type": "markdown",
      "source": [
        "2.Hashability (when contents are immutable too)\n",
        "-\n",
        "\n",
        "A tuple containing only immutable items can be used as a key in dictionaries or stored in sets.\n",
        "-\n",
        "This means you can safely rely on it as a unique identifier."
      ],
      "metadata": {
        "id": "EV7lcU9YFGkk"
      }
    },
    {
      "cell_type": "code",
      "source": [
        "coords = (40.7128, -74.0060)  # New York coordinates\n",
        "locations = {coords: \"New York\"}\n"
      ],
      "metadata": {
        "id": "yHJi7cJTFVe3"
      },
      "execution_count": null,
      "outputs": []
    },
    {
      "cell_type": "markdown",
      "source": [
        "3.Safe data grouping\n",
        "\n",
        "-\n",
        "Tuples are often used to represent fixed collections of related data (like coordinates, RGB colors, database records).\n",
        "-\n",
        "Because they can’t change, you’re sure the relationship between grouped values remains intact.\n",
        "4.\n",
        "Predictability in concurrent programs\n",
        "-\n",
        "Since tuples can’t change, they are naturally thread-safe. Multiple threads can share and use the same tuple without risk of one thread altering it unexpectedly."
      ],
      "metadata": {
        "id": "NwoZoUuGFWML"
      }
    },
    {
      "cell_type": "markdown",
      "source": [
        "✅ Example use-case\n",
        "\n",
        "Imagine storing a student’s (roll number, name, DOB):"
      ],
      "metadata": {
        "id": "EN43piKyFmk9"
      }
    },
    {
      "cell_type": "code",
      "source": [
        "student = (101, \"Alice\", \"2000-05-10\")\n"
      ],
      "metadata": {
        "id": "GKBwUZInFkBf"
      },
      "execution_count": null,
      "outputs": []
    },
    {
      "cell_type": "markdown",
      "source": [
        "- If you used a list, someone might accidentally do:\n",
        "\n",
        "  student[0] = 999 (data corruption ❌)\n",
        "-\n",
        "With a tuple, that change is impossible, ensuring data integrity ✅.\n",
        "\n",
        "\n",
        "👉 In short:\n",
        "- Tuples ensure data integrity in Python by being immutable, hashable (if contents are immutable), safe for grouping related data, and thread-safe."
      ],
      "metadata": {
        "id": "jXcBrY2ZFrUq"
      }
    },
    {
      "cell_type": "markdown",
      "source": [
        "8. What is a hash table, and how does it relate to dictionaries in Python"
      ],
      "metadata": {
        "id": "wv4iJt97GC2H"
      }
    },
    {
      "cell_type": "markdown",
      "source": [
        "🔑 What is a hash table?\n",
        "-\n",
        "\n",
        "A hash table is a data structure that stores data as key–value pairs for fast access.\n",
        "\n",
        "\n",
        "How it works:\n",
        "1.  \n",
        "Hashing the key → A hash function converts the key into a number (hash value).\n",
        "\n",
        "2.\n",
        "Indexing into an array → The hash value is mapped to a position (slot) in an internal array.\n",
        "3.\n",
        "Store key–value pair → Both the key and the value are stored in that slot.\n",
        "4.\n",
        "Handle collisions → If two keys land in the same slot, strategies like open addressing or chaining are used so both can be stored.\n",
        "\n",
        "👉 Because of this, lookups, insertions, and deletions are usually O(1) on average."
      ],
      "metadata": {
        "id": "FF4kkCVzGNVd"
      }
    },
    {
      "cell_type": "markdown",
      "source": [
        "🐍 Relation to Python dictionaries\n",
        "\n",
        "Python’s dict is built on top of a hash table.\n",
        "-\n",
        "Keys: Must be hashable (immutable, with a stable __hash__ value).\n",
        "\n",
        " -\n",
        "✅ strings, numbers, tuples of immutables\n",
        " -\n",
        "❌ lists, dicts (they can change, so not hashable)\n",
        "-\n",
        "Values: Can be any Python object.\n",
        "-\n",
        "Operations:\n",
        " -\n",
        "d[key] = value → Python hashes the key → finds the slot → stores it.\n",
        " -\n",
        "d[key] → Python hashes the key → finds the slot → returns the value.\n",
        " -\n",
        "key in d → Python hashes the key → checks the slot.\n",
        "\n",
        "**⚡ Example**"
      ],
      "metadata": {
        "id": "V0doqr2gC-8Z"
      }
    },
    {
      "cell_type": "code",
      "source": [
        "d = {\"apple\": 10, \"banana\": 20}\n",
        "\n",
        "# Lookup\n",
        "print(d[\"apple\"])   # 10 (fast O(1) lookup)\n",
        "\n",
        "# Insert\n",
        "d[\"cherry\"] = 30    # hashes \"cherry\", finds slot, stores\n",
        "\n",
        "# Membership test\n",
        "print(\"banana\" in d)  # True\n"
      ],
      "metadata": {
        "id": "awlHVuq6DhHj"
      },
      "execution_count": null,
      "outputs": []
    },
    {
      "cell_type": "markdown",
      "source": [
        "**✅ Key properties of dicts (because of hash tables):**\n",
        "-\n",
        "\n",
        "Fast average-case performance for lookups, inserts, deletes.\n",
        "-\n",
        "No duplicate keys (hash table enforces uniqueness).\n",
        "-\n",
        "Preserves insertion order since Python 3.7.\n",
        "\n",
        "**👉 Summary:**\n",
        "\n",
        "A hash table is the data structure that powers Python’s dictionary. It allows dictionaries to store key–value pairs efficiently with fast lookup and update times."
      ],
      "metadata": {
        "id": "9aEhjrIcDp9m"
      }
    },
    {
      "cell_type": "markdown",
      "source": [
        "9.  Can lists contain different data types in Python"
      ],
      "metadata": {
        "id": "-7SWV2k-DzXE"
      }
    },
    {
      "cell_type": "markdown",
      "source": [
        "- in Python, lists can contain different data types.\n",
        "\n",
        "That’s because Python lists are heterogeneous containers: each element is just a reference to an object, and those objects can be of any type.\n",
        "\n",
        "🔹 Example"
      ],
      "metadata": {
        "id": "gohOXbVND7wX"
      }
    },
    {
      "cell_type": "code",
      "source": [
        "mixed_list = [42, \"hello\", 3.14, True, [1, 2, 3], {\"a\": 1}]\n",
        "print(mixed_list)\n",
        "# [42, 'hello', 3.14, True, [1, 2, 3], {'a': 1}]\n"
      ],
      "metadata": {
        "id": "xVwl448cEHN3"
      },
      "execution_count": null,
      "outputs": []
    },
    {
      "cell_type": "markdown",
      "source": [
        "Here the list contains:\n",
        "-\n",
        "an integer (42)\n",
        "-\n",
        "a string (\"hello\")\n",
        "-\n",
        "a float (3.14)\n",
        "-\n",
        "a boolean (True)\n",
        "-\n",
        "another list ([1,2,3])\n",
        "-\n",
        "a dictionary ({\"a\": 1})\n",
        "\n",
        "**⚡ Key point**\n",
        "-\n",
        "Python is dynamically typed, so a list doesn’t need to restrict elements to one type (unlike arrays in languages such as C or Java).\n",
        "-\n",
        "However, for consistency and performance, many developers use lists with the same data type (e.g., [1,2,3,4]).\n",
        "\n",
        "👉 So yes: a list in Python can hold elements of mixed data types."
      ],
      "metadata": {
        "id": "2wdZsYoxEtDY"
      }
    },
    {
      "cell_type": "markdown",
      "source": [
        "10.  Explain why strings are immutable in Python"
      ],
      "metadata": {
        "id": "pR8LJcoCFA5Y"
      }
    },
    {
      "cell_type": "markdown",
      "source": [
        "** 🔒 What does immutable mean?**\n",
        "-\n",
        "\n",
        "Immutable = cannot be changed after creation.\n",
        "-\n",
        "So when you do:"
      ],
      "metadata": {
        "id": "xvrv5BXFFMNU"
      }
    },
    {
      "cell_type": "code",
      "source": [
        "s = \"hello\"\n",
        "s[0] = \"H\"   # ❌ Error\n"
      ],
      "metadata": {
        "id": "mZdVq0vBFYCs"
      },
      "execution_count": null,
      "outputs": []
    },
    {
      "cell_type": "markdown",
      "source": [
        "Python won’t let you modify the string in place.\n",
        "\n",
        "**🧠 Why are strings immutable in Python?**\n",
        "\n",
        "1.\n",
        "Hashing & Dictionary Keys\n",
        "-\n",
        "Strings are often used as keys in dictionaries (which are hash tables).\n",
        "-\n",
        "If strings could change after creation, their hash value would change too → dictionary lookups would break.\n",
        "-\n",
        "Immutability ensures that once created, the string’s hash is stable.\n",
        "2.\n",
        "Safety & Predictability\n",
        "-\n",
        "Strings are widely used in programs (paths, configs, identifiers, etc.).\n",
        "-\n",
        "If one part of the program could modify a string that another part is using, it would cause hard-to-track bugs.\n",
        "-\n",
        "Immutability ensures that strings remain reliable.\n",
        "3.\n",
        "Performance & Optimization\n",
        "-\n",
        "Python internally caches and reuses small strings (string interning).\n",
        "-\n",
        "This is only safe because strings can’t be changed.\n",
        "\n",
        "**Example:**"
      ],
      "metadata": {
        "id": "dKzmTEE0FWbm"
      }
    },
    {
      "cell_type": "code",
      "source": [
        "a = \"hello\"\n",
        "b = \"hello\"\n",
        "print(a is b)  # True (same object reused)\n"
      ],
      "metadata": {
        "id": "x5AuhnqkF5kI"
      },
      "execution_count": null,
      "outputs": []
    },
    {
      "cell_type": "markdown",
      "source": [
        "4.\n",
        "Thread-Safety\n",
        "-\n",
        "Multiple threads can safely share strings without risk of one thread modifying them while another is reading them.\n",
        "5.\n",
        "Design Simplicity\n",
        "-\n",
        "Many operations like concatenation (+), slicing, and formatting create new strings instead of modifying the old one.\n",
        "-\n",
        "This design makes reasoning about code simpler: no hidden side effects.\n",
        "\n",
        "✅ Example"
      ],
      "metadata": {
        "id": "-meHws4jF-ip"
      }
    },
    {
      "cell_type": "code",
      "source": [
        "s = \"hello\"\n",
        "t = s.upper()   # creates a NEW string \"HELLO\"\n",
        "print(s)        # \"hello\" (unchanged)\n",
        "print(t)        # \"HELLO\"\n"
      ],
      "metadata": {
        "id": "HRsXsbpyGLTy"
      },
      "execution_count": null,
      "outputs": []
    },
    {
      "cell_type": "markdown",
      "source": [
        "👉 In short:\n",
        "-\n",
        "Strings are immutable in Python to ensure hashing consistency, safety, performance optimizations, thread-safety, and simpler design."
      ],
      "metadata": {
        "id": "yGEmNX-EGObe"
      }
    },
    {
      "cell_type": "markdown",
      "source": [
        "11. What advantages do dictionaries offer over lists for certain tasks"
      ],
      "metadata": {
        "id": "EHrPmfCfGdqm"
      }
    },
    {
      "cell_type": "markdown",
      "source": [
        " **📋 Lists**\n",
        "-\n",
        "\n",
        "Ordered collection of elements.\n",
        "-\n",
        "Indexed by position (0, 1, 2, …).\n",
        "-\n",
        "Useful when: you need sequences, order matters, duplicates are fine.\n",
        "\n",
        "**📖 Dictionaries**\n",
        "-\n",
        "Collection of key–value pairs.\n",
        "-\n",
        "Indexed by keys (not positions).\n",
        "-\n",
        "Useful when: you need to quickly find, add, or update data by a meaningful key.\n",
        "\n",
        "**✅ Advantages of Dictionaries over Lists**\n",
        "\n",
        "1.\n",
        "Fast Lookups (O(1) vs O(n))\n",
        "-\n",
        "In a list, searching requires scanning through all elements (O(n)).\n",
        "-\n",
        "In a dictionary, keys are hashed → direct slot lookup (O(1) average)."
      ],
      "metadata": {
        "id": "kHJyTEeWGgCE"
      }
    },
    {
      "cell_type": "code",
      "source": [
        "# Using list\n",
        "students = [(\"101\", \"Alice\"), (\"102\", \"Bob\")]\n",
        "print([name for roll, name in students if roll == \"102\"])  # slow\n",
        "\n",
        "# Using dict\n",
        "students = {\"101\": \"Alice\", \"102\": \"Bob\"}\n",
        "print(students[\"102\"])  # fast\n"
      ],
      "metadata": {
        "id": "c9qoMYJ195cG"
      },
      "execution_count": null,
      "outputs": []
    },
    {
      "cell_type": "markdown",
      "source": [
        "2. Meaningful Keys Instead of Indexes\n",
        "-\n",
        "Lists use numeric indexes only.\n",
        "-\n",
        "Dictionaries let you use descriptive keys → code is more readable."
      ],
      "metadata": {
        "id": "DFrrS4Uw96JL"
      }
    },
    {
      "cell_type": "code",
      "source": [
        "person_list = [\"Alice\", 25, \"New York\"]\n",
        "# Who knows which index is age? 🤔\n",
        "\n",
        "person_dict = {\"name\": \"Alice\", \"age\": 25, \"city\": \"New York\"}\n",
        "print(person_dict[\"age\"])  # much clearer ✅\n"
      ],
      "metadata": {
        "id": "wqs3lASM-AS4"
      },
      "execution_count": null,
      "outputs": []
    },
    {
      "cell_type": "markdown",
      "source": [
        "3. No Need to Search Manually\n",
        "-\n",
        "Lists require looping to find an element.\n",
        "-\n",
        "Dictionaries let you jump directly with dict[key].\n",
        "4.\n",
        "Better for Sparse Data\n",
        "-\n",
        "If data has gaps (like roll numbers 1, 1000, 5000), lists would waste huge space.\n",
        "-\n",
        "Dictionaries store only existing keys → memory efficient.\n",
        "5.\n",
        "Flexibility in Data Structures\n",
        "-\n",
        "Dictionaries naturally model real-world mappings (student → grade, word → meaning, product_id → price).\n",
        "-\n",
        "Lists don’t express this relationship directly.\n",
        "\n",
        "**⚡ Summary**\n",
        "\n",
        "Dictionaries are better than lists when you need:\n",
        "\n",
        "- 🔍 Fast lookups & updates by a key.\n",
        "-\n",
        "🏷️ Meaningful labels instead of numeric positions.\n",
        "-\n",
        "📦 Mappings/associations between data.\n",
        "-\n",
        "📉 Sparse data storage without wasting memory.\n",
        "\n",
        "Lists, however, are better when order and sequential processing matter."
      ],
      "metadata": {
        "id": "_FyjS8Zj-IJU"
      }
    },
    {
      "cell_type": "markdown",
      "source": [
        "12.  Describe a scenario where using a tuple would be preferable over a list."
      ],
      "metadata": {
        "id": "Y7kdA2nl-yq6"
      }
    },
    {
      "cell_type": "markdown",
      "source": [
        "- when a tuple is better than a list in Python.\n",
        "\n",
        "📋 Reminder:\n",
        "\n",
        "-\n",
        "List = mutable (can change after creation).\n",
        "\n",
        "-\n",
        "Tuple = immutable (fixed, cannot change).\n",
        "\n",
        "✅ Scenarios where a tuple is preferable\n",
        "\n",
        "1.\n",
        "Data that should not change (data integrity)\n",
        "-\n",
        "Example: storing GPS coordinates."
      ],
      "metadata": {
        "id": "EtrGWiLt_m6J"
      }
    },
    {
      "cell_type": "code",
      "source": [
        "location = (40.7128, -74.0060)  # New York\n"
      ],
      "metadata": {
        "id": "GYhYT4KZAAjN"
      },
      "execution_count": null,
      "outputs": []
    },
    {
      "cell_type": "markdown",
      "source": [
        "Coordinates are fixed — using a tuple ensures no accidental modification.\n",
        "\n",
        "2.\n",
        "As dictionary keys or set elements\n",
        "-\n",
        "Lists are not hashable (can’t be keys). Tuples (with immutable elements) are hashable."
      ],
      "metadata": {
        "id": "7bQhI_StABa5"
      }
    },
    {
      "cell_type": "code",
      "source": [
        "visited = {}\n",
        "coords = (10, 20)\n",
        "visited[coords] = \"Tree found here\"\n"
      ],
      "metadata": {
        "id": "KH142wT_ALmP"
      },
      "execution_count": null,
      "outputs": []
    },
    {
      "cell_type": "markdown",
      "source": [
        "3.Representing a record with fixed structur\n",
        "-\n",
        "Example: (roll_no, name, DOB)."
      ],
      "metadata": {
        "id": "HDb_fe9gAOqD"
      }
    },
    {
      "cell_type": "code",
      "source": [
        "student = (101, \"Alice\", \"2000-05-10\")\n"
      ],
      "metadata": {
        "id": "HbU_H8FyAY7V"
      },
      "execution_count": null,
      "outputs": []
    },
    {
      "cell_type": "markdown",
      "source": [
        "You don’t want the structure to change accidentally.\n",
        "4.\n",
        "Performance considerations\n",
        "-\n",
        "Tuples are faster than lists for iteration and slightly more memory efficient (since they don’t support modification).\n",
        "-\n",
        "Useful when handling large, read-only datasets.\n",
        "5.\n",
        "Thread safety / concurrency\n",
        "-\n",
        "In multithreaded environments, immutable data (like tuples) is safer to share because it can’t be modified by other threads.\n",
        "\n",
        "**⚡ Example**\n",
        "\n",
        "Imagine writing a program for a mapping app:"
      ],
      "metadata": {
        "id": "XNWRe-v4AZnX"
      }
    },
    {
      "cell_type": "code",
      "source": [
        "# Using tuple for coordinates (should not change)\n",
        "route = [(40.7128, -74.0060), (34.0522, -118.2437)]\n",
        "\n",
        "# Using list for waypoints (user can add/remove)\n",
        "waypoints = [\"Start\", \"Checkpoint 1\", \"Checkpoint 2\", \"Finish\"]\n"
      ],
      "metadata": {
        "id": "xmILXnk_AsPD"
      },
      "execution_count": null,
      "outputs": []
    },
    {
      "cell_type": "markdown",
      "source": [
        "\n",
        "Here:\n",
        "-\n",
        "route → tuple (fixed points)\n",
        "-\n",
        "waypoints → list (modifiable checkpoints)\n",
        "\n",
        "👉 In short:\n",
        "-\n",
        "Use a tuple when data is fixed, should not be modified, or needs to be hashable (like dict keys). Use a list when you need mutability (adding, removing, changing items)."
      ],
      "metadata": {
        "id": "Z5joxb_UAs9H"
      }
    },
    {
      "cell_type": "markdown",
      "source": [
        "13.  How do sets handle duplicate values in Python"
      ],
      "metadata": {
        "id": "-Fk2Y0OVBCLN"
      }
    },
    {
      "cell_type": "markdown",
      "source": [
        "**🔑 How sets handle duplicates in Python**\n",
        "-  \n",
        "A set is a collection of unique elements.\n",
        "-\n",
        "If you try to insert a duplicate, Python will ignore it (it doesn’t raise an error).\n",
        "-\n",
        "This uniqueness is enforced using hashing\n",
        "-\n",
        "Each element is hashed to determine its position in the internal hash table.\n",
        "-\n",
        "If another element with the same hash and value already exists, the new one is not added."
      ],
      "metadata": {
        "id": "NsJ6gjCsBIJu"
      }
    },
    {
      "cell_type": "markdown",
      "source": [
        "**✅ Example**"
      ],
      "metadata": {
        "id": "D4ka4kNYBcz5"
      }
    },
    {
      "cell_type": "code",
      "source": [
        "numbers = {1, 2, 2, 3, 4, 4, 5}\n",
        "print(numbers)\n",
        "# {1, 2, 3, 4, 5}  (duplicates removed)\n",
        "\n",
        "s = set()\n",
        "s.add(10)\n",
        "s.add(10)   # duplicate → ignored\n",
        "print(s)    # {10}\n"
      ],
      "metadata": {
        "id": "MV1yiMEVBbqY"
      },
      "execution_count": null,
      "outputs": []
    },
    {
      "cell_type": "markdown",
      "source": [
        "⚡ Key Points\n",
        "\n",
        "1.\n",
        "Duplicates are automatically removed.\n",
        "-\n",
        "Useful for cleaning data."
      ],
      "metadata": {
        "id": "TTrdPS1UBh-8"
      }
    },
    {
      "cell_type": "code",
      "source": [
        "data = [1, 2, 2, 3, 3, 3, 4]\n",
        "unique = set(data)\n",
        "print(unique)  # {1, 2, 3, 4}\n"
      ],
      "metadata": {
        "id": "LqsyAV0QBnXR"
      },
      "execution_count": null,
      "outputs": []
    },
    {
      "cell_type": "markdown",
      "source": [
        "2.Comparison is based on equality (==) + hash.\n",
        "-\n",
        "Even if two different objects have the same value, they won’t both appear in the set.\n",
        "3.\n",
        "Order doesn’t matter.\n",
        "-\n",
        "Since sets are unordered, you can’t rely on the position of elements."
      ],
      "metadata": {
        "id": "OQCva4N_BqvT"
      }
    },
    {
      "cell_type": "markdown",
      "source": [
        "👉 In short:\n",
        "\n",
        "Sets in Python handle duplicates by ignoring them — each value can appear only once because of the way sets use hash tables to store elements."
      ],
      "metadata": {
        "id": "g4xNG0z7B0WW"
      }
    },
    {
      "cell_type": "markdown",
      "source": [
        "14.How does the “in” keyword work differently for lists and dictionaries"
      ],
      "metadata": {
        "id": "qs7xjFsCB7xZ"
      }
    },
    {
      "cell_type": "markdown",
      "source": [
        "- works for lists vs dictionaries in Python.\n",
        "\n",
        "📋 1. in with Lists\n",
        "-\n",
        "Checks if a value exists in the list.\n",
        "-\n",
        "Works by scanning elements one by one (linear search, O(n)).\n",
        "\n",
        "✅ Example:"
      ],
      "metadata": {
        "id": "nOEiOxgxCegD"
      }
    },
    {
      "cell_type": "code",
      "source": [
        "fruits = [\"apple\", \"banana\", \"cherry\"]\n",
        "\n",
        "print(\"apple\" in fruits)   # True\n",
        "print(\"grape\" in fruits)   # False\n"
      ],
      "metadata": {
        "id": "W-sTybSQCk5x"
      },
      "execution_count": null,
      "outputs": []
    },
    {
      "cell_type": "markdown",
      "source": [
        "Here, Python goes through the list until it finds \"apple\" or reaches the end.\n",
        "\n",
        "📖 2. in with Dictionaries\n",
        "-\n",
        "Checks if a key exists in the dictionary (not the value).\n",
        "-\n",
        "Uses hash table lookup → average O(1) time (much faster than list search).\n",
        "\n",
        "✅ Example:"
      ],
      "metadata": {
        "id": "EKzW0XzGCpzx"
      }
    },
    {
      "cell_type": "code",
      "source": [
        "prices = {\"apple\": 100, \"banana\": 50, \"cherry\": 75}\n",
        "\n",
        "print(\"apple\" in prices)   # True  (key exists)\n",
        "print(\"grape\" in prices)   # False (key not found)\n"
      ],
      "metadata": {
        "id": "hJT5usofCuOk"
      },
      "execution_count": null,
      "outputs": []
    },
    {
      "cell_type": "markdown",
      "source": [
        "⚠️ Note:\n",
        "Checking for values requires .values():"
      ],
      "metadata": {
        "id": "FOlxqw5HCu3P"
      }
    },
    {
      "cell_type": "code",
      "source": [
        "print(100 in prices.values())  # True\n"
      ],
      "metadata": {
        "id": "nU0BT7slCz3d"
      },
      "execution_count": null,
      "outputs": []
    },
    {
      "cell_type": "markdown",
      "source": [
        "⚡ Key Differences\n",
        "\n",
        "| Structure      | Meaning of `\"x in ...\"`                      | Time Complexity            |\n",
        "| -------------- | -------------------------------------------- | -------------------------- |\n",
        "| **List**       | Checks if *x* is an **element** in the list  | O(n) (linear scan)         |\n",
        "| **Dictionary** | Checks if *x* is a **key** in the dictionary | O(1) average (hash lookup) |\n"
      ],
      "metadata": {
        "id": "olTcmKhqC0hS"
      }
    },
    {
      "cell_type": "markdown",
      "source": [
        "👉 In short:\n",
        "-\n",
        "For lists, in checks for elements by scanning.\n",
        "-\n",
        "For dicts, in checks for keys using hashing (much faster)."
      ],
      "metadata": {
        "id": "ZHEsyYP-C_JV"
      }
    },
    {
      "cell_type": "markdown",
      "source": [
        "15.Can you modify the elements of a tuple? Explain why or why not."
      ],
      "metadata": {
        "id": "70KBOhxWDNKb"
      }
    },
    {
      "cell_type": "markdown",
      "source": [
        "- **🔒 Can you modify the elements of a tuple in Python?**\n",
        "\n",
        "No — tuples are immutable.\n",
        "Once a tuple is created, its elements cannot be added, removed, or reassigned.\n",
        "\n",
        "Example"
      ],
      "metadata": {
        "id": "X0FZWy9ADPKO"
      }
    },
    {
      "cell_type": "code",
      "source": [
        "t = (1, 2, 3)\n",
        "t[0] = 99       # ❌ TypeError: 'tuple' object does not support item assignment\n"
      ],
      "metadata": {
        "id": "lHUACeW5Dafp"
      },
      "execution_count": null,
      "outputs": []
    },
    {
      "cell_type": "markdown",
      "source": [
        "**🧠 Why tuples are immutable**\n",
        "\n",
        "1.\n",
        "Data integrity → Tuples are often used for fixed collections (like coordinates, dates). Immutability ensures they aren’t accidentally changed.\n",
        "2.\n",
        "Hashability → Tuples (with only immutable elements) can be used as keys in dictionaries or elements in sets. Lists cannot.\n",
        "3.\n",
        "Performance & safety → Because they don’t change, Python can optimize storage and makes tuples safe to share across code without side effects.\n",
        "\n",
        "⚠️ Important twist\n",
        "\n",
        "Tuples themselves are immutable, but they can hold mutable objects.\n",
        "If a tuple contains a list or dictionary, you can still modify that inner object.\n",
        "\n",
        "**Example**"
      ],
      "metadata": {
        "id": "QMDzkf25DaK1"
      }
    },
    {
      "cell_type": "code",
      "source": [
        "t = (1, [2, 3], 4)\n",
        "t[1][0] = 99   # Allowed (modifying the list inside the tuple)\n",
        "print(t)       # (1, [99, 3], 4)\n"
      ],
      "metadata": {
        "id": "Bo0nmTD-DvWc"
      },
      "execution_count": null,
      "outputs": []
    },
    {
      "cell_type": "markdown",
      "source": [
        "👉 The tuple’s structure (which objects it points to) can’t change,\n",
        "but the mutable objects inside can still be changed.\n",
        "\n",
        "✅ In short\n",
        "-\n",
        "You cannot modify tuple elements directly because tuples are immutable.\n",
        "-\n",
        "But if a tuple contains a mutable object, that object itself can still be modified."
      ],
      "metadata": {
        "id": "dKTc5AvjD0cW"
      }
    },
    {
      "cell_type": "markdown",
      "source": [
        "16. What is a nested dictionary, and give an example of its use case?"
      ],
      "metadata": {
        "id": "jUzExcP_D3Nr"
      }
    },
    {
      "cell_type": "markdown",
      "source": [
        "**📖 What is a nested dictionary?**\n",
        "\n",
        "A nested dictionary is a dictionary inside another dictionary.\n",
        "-\n",
        "In other words, the values of a dictionary can themselves be dictionaries.\n",
        "-\n",
        "This is useful for representing hierarchical or structured data."
      ],
      "metadata": {
        "id": "_QGn_uTaD_eb"
      }
    },
    {
      "cell_type": "markdown",
      "source": [
        "✅ Example of a nested dictionary"
      ],
      "metadata": {
        "id": "oz8M1LZkEJKc"
      }
    },
    {
      "cell_type": "code",
      "source": [
        "students = {\n",
        "    \"101\": {\"name\": \"Alice\", \"age\": 20, \"grade\": \"A\"},\n",
        "    \"102\": {\"name\": \"Bob\", \"age\": 22, \"grade\": \"B\"},\n",
        "    \"103\": {\"name\": \"Charlie\", \"age\": 21, \"grade\": \"A\"}\n",
        "}\n"
      ],
      "metadata": {
        "id": "L_HofFDNEKQA"
      },
      "execution_count": null,
      "outputs": []
    },
    {
      "cell_type": "markdown",
      "source": [
        "Here:\n",
        "-\n",
        "The outer dictionary uses student IDs (\"101\", \"102\", \"103\") as keys.\n",
        "-\n",
        "The inner dictionaries store details about each student (name, age, grade).\n",
        "\n",
        "🎯 Use Cases of Nested Dictionaries\n",
        "\n",
        "1.\n",
        "Databases in memory\n",
        "-\n",
        "Store structured records like users, products, employees.\n",
        "\n",
        "2.\n",
        "JSON-like data\n",
        "-\n",
        "APIs often return data in nested dictionary form.\n",
        "-\n",
        "Example: weather data, social media posts, etc.\n",
        "\n",
        "3.\n",
        "Configuration storage\n",
        "-\n",
        "Store app settings grouped by category."
      ],
      "metadata": {
        "id": "YL-0ZZc0EMkm"
      }
    },
    {
      "cell_type": "code",
      "source": [
        "config = {\n",
        "    \"database\": {\"host\": \"localhost\", \"port\": 3306},\n",
        "    \"auth\": {\"user\": \"admin\", \"password\": \"1234\"}\n",
        "}\n"
      ],
      "metadata": {
        "id": "xodie7-2EjPe"
      },
      "execution_count": null,
      "outputs": []
    },
    {
      "cell_type": "markdown",
      "source": [
        "4.Graph or tree representation\n",
        "-\n",
        "Dictionaries can model complex structures like family trees, networks, etc.\n",
        "\n",
        "⚡ Example usage"
      ],
      "metadata": {
        "id": "vJHqPLlZEj-U"
      }
    },
    {
      "cell_type": "code",
      "source": [
        "# Accessing nested dictionary data\n",
        "print(students[\"101\"][\"name\"])   # Alice\n",
        "print(students[\"103\"][\"grade\"])  # A\n",
        "\n",
        "# Updating data\n",
        "students[\"102\"][\"grade\"] = \"A\"\n",
        "print(students[\"102\"])  # {'name': 'Bob', 'age': 22, 'grade': 'A'}\n"
      ],
      "metadata": {
        "id": "Ty7aJKydEq-F"
      },
      "execution_count": null,
      "outputs": []
    },
    {
      "cell_type": "markdown",
      "source": [
        "👉 In short:\n",
        "\n",
        "A nested dictionary is just a dictionary that contains other dictionaries as values.\n",
        "It’s useful for representing structured, hierarchical data (like student records, JSON, configs)."
      ],
      "metadata": {
        "id": "hIRnHhOiEuZG"
      }
    },
    {
      "cell_type": "markdown",
      "source": [
        "17.Describe the time complexity of accessing elements in a dictionary"
      ],
      "metadata": {
        "id": "OHaj1MrqE2pR"
      }
    },
    {
      "cell_type": "markdown",
      "source": [
        "- The time complexity of accessing elements in a dictionary in Python.\n",
        "\n",
        "🔑 Dictionary Basics\n",
        "\n",
        "-\n",
        "Python dictionaries are implemented as hash tables.\n",
        "-\n",
        "When you do value = my_dict[key], Python:\n",
        "1.\n",
        "Computes the hash of the key.\n",
        "\n",
        "2.\n",
        "Maps it to a slot in the internal table.\n",
        "\n",
        "3.\n",
        "Compares keys (in case of collisions).\n",
        "\n",
        "4.\n",
        "Returns the value if found.\n",
        "\n",
        "⏱️ Time Complexity\n",
        "1. Average Case (most common)\n",
        "-\n",
        "O(1) → constant time\n",
        "-\n",
        "Lookup doesn’t depend on dictionary size.\n",
        "-\n",
        "Example:"
      ],
      "metadata": {
        "id": "e66mBkDxFAxe"
      }
    },
    {
      "cell_type": "code",
      "source": [
        "d = {\"apple\": 10, \"banana\": 20, \"cherry\": 30}\n",
        "print(d[\"banana\"])   # O(1) average time\n"
      ],
      "metadata": {
        "id": "S1FVvXH_Fmuq"
      },
      "execution_count": null,
      "outputs": []
    },
    {
      "cell_type": "markdown",
      "source": [
        "2. Worst Case\n",
        "-\n",
        "O(n) → linear time\n",
        "-\n",
        "This happens only if all keys hash to the same slot (many collisions).\n",
        "-\n",
        "Then Python must linearly search through all entries in that slot.\n",
        "-\n",
        "In practice, Python’s hashing algorithm and resizing make this extremely rare.\n",
        "\n",
        "3. Amortized Complexity (with resizing)\n",
        "-\n",
        "Dictionaries automatically resize when they get too full (~2/3 full).\n",
        "-\n",
        "Resizing takes O(n) (rehashing all keys).\n",
        "-\n",
        "But this cost is spread out (amortized), so each insertion/lookup is still O(1) average.\n",
        "\n",
        "⚡ Summary Table"
      ],
      "metadata": {
        "id": "gsjrulieFtGI"
      }
    },
    {
      "cell_type": "markdown",
      "source": [
        "| Operation               | Average Case | Worst Case |\n",
        "| ----------------------- | ------------ | ---------- |\n",
        "| Lookup (`d[key]`)       | O(1)         | O(n)       |\n",
        "| Insertion (`d[key]=v`)  | O(1)         | O(n)       |\n",
        "| Deletion (`del d[key]`) | O(1)         | O(n)       |\n"
      ],
      "metadata": {
        "id": "hWA22FeDF1f8"
      }
    },
    {
      "cell_type": "markdown",
      "source": [
        "👉 In short:\n",
        "-\n",
        "Accessing elements in a dictionary is O(1) on average, but O(n) in the worst case (rare, due to collisions)."
      ],
      "metadata": {
        "id": "TXpuwSTEF4uI"
      }
    },
    {
      "cell_type": "markdown",
      "source": [
        "18.In what situations are lists preferred over dictionaries."
      ],
      "metadata": {
        "id": "XsGAJPv1K2c6"
      }
    },
    {
      "cell_type": "markdown",
      "source": [
        "- lists and dictionaries are both super useful, but they shine in different situations. Let’s focus on when lists are better.\n",
        "\n",
        "✅ Situations Where Lists Are Preferred Over Dictionaries\n",
        "\n",
        "1.Ordered Collections\n",
        "-\n",
        "Lists preserve the order of insertion naturally.\n",
        "-\n",
        "Dictionaries in Python 3.7+ also maintain insertion order, but lists are more intuitive for strictly ordered data.\n",
        "-\n",
        "Example: Storing a sequence of daily temperatures."
      ],
      "metadata": {
        "id": "lD5BSGeFLjMX"
      }
    },
    {
      "cell_type": "code",
      "source": [
        "temps = [30, 32, 31, 29, 28]\n"
      ],
      "metadata": {
        "id": "I9Gqfd8oLvyv"
      },
      "execution_count": null,
      "outputs": []
    },
    {
      "cell_type": "markdown",
      "source": [
        "2. Index-Based Access\n",
        "-\n",
        "Lists let you access elements by position (index), e.g., my_list[0].\n",
        "*\n",
        "Dictionaries require keys, not positions.\n",
        "-\n",
        "Example: Accessing the 5th item in a sequence.\n",
        "\n",
        "3. Simple, Sequential Data\n",
        "-\n",
        "When the data doesn’t need labels (keys), a list is simpler and lighter.\n",
        "-\n",
        "Example: Storing student roll numbers in order."
      ],
      "metadata": {
        "id": "0kvStH8RLzJZ"
      }
    },
    {
      "cell_type": "code",
      "source": [
        "roll_numbers = [101, 102, 103, 104]\n"
      ],
      "metadata": {
        "id": "7yDXWo7iL7TA"
      },
      "execution_count": null,
      "outputs": []
    },
    {
      "cell_type": "markdown",
      "source": [
        "4.Iterating in Order\n",
        "-\n",
        "Iterating through a list is straightforward and efficient.\n",
        "-\n",
        "Example: Looping through items in a shopping cart in order.\n",
        "\n",
        "5.When Duplicates Are Needed\n",
        "-\n",
        "Lists allow duplicate values.\n",
        "-\n",
        "Dictionaries overwrite values with the same key.\n",
        "-\n",
        "Example: Storing votes in an election ([\"Alice\", \"Bob\", \"Alice\"]).\n",
        "\n",
        "6.When Memory Efficiency Matters\n",
        "-\n",
        "Lists are generally lighter than dictionaries, since dictionaries store extra hash/index data.\n",
        "-\n",
        "Example: For millions of integers, a list is more memory-efficient than a dict.\n",
        "\n",
        "⚡ Quick Comparison"
      ],
      "metadata": {
        "id": "EjEJmj_gL64A"
      }
    },
    {
      "cell_type": "markdown",
      "source": [
        "| Feature             | List                    | Dictionary             |\n",
        "| ------------------- | ----------------------- | ---------------------- |\n",
        "| Access by index     | ✅ Yes                   | ❌ No                   |\n",
        "| Access by key/label | ❌ No                    | ✅ Yes                  |\n",
        "| Keeps order         | ✅ Yes                   | ✅ (since Python 3.7)   |\n",
        "| Allows duplicates   | ✅ Yes                   | ❌ Keys must be unique  |\n",
        "| Best for            | Sequences, ordered data | Mappings, labeled data |\n"
      ],
      "metadata": {
        "id": "oIViUALbMLBx"
      }
    },
    {
      "cell_type": "markdown",
      "source": [
        "👉 In short:\n",
        "Use lists when:\n",
        "-\n",
        "You care about order and positions,\n",
        "-\n",
        "You want duplicates,\n",
        "-\n",
        "Data is simple, sequential, and index-based,\n",
        "-\n",
        "Or you want memory efficiency."
      ],
      "metadata": {
        "id": "_W9TFjT6MQDJ"
      }
    },
    {
      "cell_type": "markdown",
      "source": [
        "19. Why are dictionaries considered unordered, and how does that affect data retrieval"
      ],
      "metadata": {
        "id": "dg5cJZv9MaZt"
      }
    },
    {
      "cell_type": "markdown",
      "source": [
        "🔑 Why Dictionaries Are Considered Unordered\n",
        "\n",
        "Historically (before Python 3.7):\n",
        "-\n",
        "Dictionaries were implemented using hash tables.\n",
        "-\n",
        "When you inserted a key-value pair, the key was hashed, and the value was placed in a slot based on that hash.\n",
        "-\n",
        "This meant the physical order in memory was not related to the insertion order.\n",
        "-\n",
        "Therefore, dictionaries were said to be unordered collections.\n",
        "\n",
        "🕐 From Python 3.7+\n",
        "-\n",
        "Dictionaries do preserve insertion order as a language guarantee.\n",
        "-\n",
        "However, this order is still not the same as sorted order — it’s just the order in which items were added.\n",
        "\n",
        "Example:"
      ],
      "metadata": {
        "id": "rX1VL9GMMb95"
      }
    },
    {
      "cell_type": "code",
      "source": [
        "d = {\"b\": 2, \"a\": 1, \"c\": 3}\n",
        "print(d)\n",
        "# Output: {'b': 2, 'a': 1, 'c': 3} (insertion order)\n"
      ],
      "metadata": {
        "id": "LLqlGUaPMoFX"
      },
      "execution_count": null,
      "outputs": []
    },
    {
      "cell_type": "markdown",
      "source": [
        "⚡ How “Unordered” Nature Affects Retrieval\n",
        "\n",
        "1.Direct Access by Key → Always Fast\n",
        "-\n",
        "You don’t rely on order at all when doing d[\"a\"].\n",
        "-\n",
        "Retrieval uses hashing → O(1) average time.\n",
        "\n",
        "2.Iteration\n",
        "-\n",
        "Before Python 3.7, iteration order was unpredictable.\n",
        "-\n",
        "Now it’s insertion order, but still not sorted.\n",
        "-\n",
        "If you need sorted access, you must explicitly sort:"
      ],
      "metadata": {
        "id": "BZvhdwCxMouP"
      }
    },
    {
      "cell_type": "code",
      "source": [
        "for key in sorted(d):\n",
        "    print(key, d[key])\n"
      ],
      "metadata": {
        "id": "EgTB9dCAM7Qj"
      },
      "execution_count": null,
      "outputs": []
    },
    {
      "cell_type": "markdown",
      "source": [
        "3.No Positional Indexing\n",
        "-\n",
        "You can’t do d[0] to get the \"first\" item like in a list.\n",
        "-\n",
        "Instead, you iterate or convert to a list:"
      ],
      "metadata": {
        "id": "02MaBaZ3M77T"
      }
    },
    {
      "cell_type": "code",
      "source": [
        "list(d.items())[0]\n"
      ],
      "metadata": {
        "id": "2RD5p7drNEYt"
      },
      "execution_count": null,
      "outputs": []
    },
    {
      "cell_type": "markdown",
      "source": [
        "✅ Summary\n",
        "-\n",
        "Dictionaries are considered unordered because their design is based on hashing, not sequence.\n",
        "-\n",
        "This doesn’t hurt retrieval (d[key]) since hashing is fast and order-independent.\n",
        "-\n",
        "The only effect is that you can’t rely on natural ordering or indexing like in lists."
      ],
      "metadata": {
        "id": "KQGRxviNNE_l"
      }
    },
    {
      "cell_type": "markdown",
      "source": [
        "20.Explain the difference between a list and a dictionary in terms of data retrieval."
      ],
      "metadata": {
        "id": "4d_wLlXCNQMd"
      }
    },
    {
      "cell_type": "markdown",
      "source": [
        "1. List\n",
        "-\n",
        "Structure: A list is an ordered collection of elements. Each element is stored at a specific index (starting from 0).\n",
        "-\n",
        "Data retrieval:\n",
        "-\n",
        "You retrieve values by position (index).\n",
        "Example:"
      ],
      "metadata": {
        "id": "JyBHAEQHNR_v"
      }
    },
    {
      "cell_type": "code",
      "source": [
        "my_list = [\"apple\", \"banana\", \"cherry\"]\n",
        "print(my_list[1])   # Output: banana\n"
      ],
      "metadata": {
        "id": "hevHy822N704"
      },
      "execution_count": null,
      "outputs": []
    },
    {
      "cell_type": "markdown",
      "source": [
        "- Retrieval is fast (time complexity: O(1)) if you know the index, but if you need to search by value, it’s slower (O(n)) because Python has to scan the whole list.\n",
        "\n",
        "2. Dictionary\n",
        "-\n",
        "Structure: A dictionary stores data as key-value pairs. Keys are unique and act like labels.\n",
        "-\n",
        "Data retrieval:\n",
        "-\n",
        "You retrieve values by key, not by index.\n",
        "\n",
        "Example:"
      ],
      "metadata": {
        "id": "v_YdEjXWN-b9"
      }
    },
    {
      "cell_type": "code",
      "source": [
        "my_dict = {\"a\": \"apple\", \"b\": \"banana\", \"c\": \"cherry\"}\n",
        "print(my_dict[\"b\"])   # Output: banana\n"
      ],
      "metadata": {
        "id": "AjOhRrOEOMTD"
      },
      "execution_count": null,
      "outputs": []
    },
    {
      "cell_type": "markdown",
      "source": [
        "- Retrieval is usually very fast (average time complexity: O(1)), because Python dictionaries are implemented using hash tables.\n",
        "-\n",
        "Searching by key is efficient, but searching by value is slower (O(n)) because it must check each item.\n",
        "\n",
        "Key Difference in Retrieval\n",
        "-\n",
        "List → Retrieve by index/position.\n",
        "-\n",
        "Dictionary → Retrieve by key/label.\n",
        "\n",
        "👉 So, if your data is naturally ordered and you mostly use positions, use a list. If your data has unique identifiers (keys) and you want quick lookups, use a dictionary."
      ],
      "metadata": {
        "id": "pmak7u_xOM7i"
      }
    },
    {
      "cell_type": "markdown",
      "source": [
        "# Practical Questions"
      ],
      "metadata": {
        "id": "yd2riStNA3tY"
      }
    },
    {
      "cell_type": "markdown",
      "source": [
        "1.Write a code to create a string with your name and print it"
      ],
      "metadata": {
        "id": "Wuna2lJDA8ct"
      }
    },
    {
      "cell_type": "markdown",
      "source": [
        "- Python code to create a string with your name and print it:"
      ],
      "metadata": {
        "id": "BVr_pCSTBGWe"
      }
    },
    {
      "cell_type": "code",
      "source": [
        "# create a string with your name\n",
        "name = \"Sujeet Singh\"\n",
        "\n",
        "# print the string\n",
        "print(\"My name is:\", name)\n"
      ],
      "metadata": {
        "id": "Hq77bly3BItE"
      },
      "execution_count": null,
      "outputs": []
    },
    {
      "cell_type": "markdown",
      "source": [
        "2. Write a code to find the length of the string \"Hello World\""
      ],
      "metadata": {
        "id": "wZsYVKkuBOxL"
      }
    },
    {
      "cell_type": "markdown",
      "source": [
        "- Python code to find the length of the string \"Hello World\":"
      ],
      "metadata": {
        "id": "BXKmOZ0lBQfb"
      }
    },
    {
      "cell_type": "code",
      "source": [
        "# create a string\n",
        "text = \"Hello World\"\n",
        "\n",
        "# find length using len()\n",
        "length = len(text)\n",
        "\n",
        "# print the result\n",
        "print(\"Length of the string is:\", length)\n"
      ],
      "metadata": {
        "id": "mVmPJVgqBW0M"
      },
      "execution_count": null,
      "outputs": []
    },
    {
      "cell_type": "markdown",
      "source": [
        "👉 Output will be:"
      ],
      "metadata": {
        "id": "qqkWtfL4BZcH"
      }
    },
    {
      "cell_type": "code",
      "source": [
        "Length of the string is: 11\n"
      ],
      "metadata": {
        "id": "MHz_qpUsBaXP"
      },
      "execution_count": null,
      "outputs": []
    },
    {
      "cell_type": "markdown",
      "source": [
        "3.Write a code to slice the first 3 characters from the string \"Python Programming\""
      ],
      "metadata": {
        "id": "lftbHd_2BjOZ"
      }
    },
    {
      "cell_type": "markdown",
      "source": [
        "- Python code to slice the first 3 characters from the string \"Python Programming\":"
      ],
      "metadata": {
        "id": "PQZ0edezBpSD"
      }
    },
    {
      "cell_type": "code",
      "source": [
        "# create a string\n",
        "text = \"Python Programming\"\n",
        "\n",
        "# slice the first 3 characters\n",
        "sliced_text = text[:3]\n",
        "\n",
        "# print the result\n",
        "print(\"First 3 characters are:\", sliced_text)\n"
      ],
      "metadata": {
        "id": "ZLmznjqxBrtB"
      },
      "execution_count": null,
      "outputs": []
    },
    {
      "cell_type": "markdown",
      "source": [
        "👉 Output:"
      ],
      "metadata": {
        "id": "TVX3jl9_BuW9"
      }
    },
    {
      "cell_type": "code",
      "source": [
        "First 3 characters are: Pyt\n"
      ],
      "metadata": {
        "id": "y8J3LFgTBvPb"
      },
      "execution_count": null,
      "outputs": []
    },
    {
      "cell_type": "markdown",
      "source": [
        "4.Write a code to convert the string \"hello\" to uppercase"
      ],
      "metadata": {
        "id": "agxRH-GKB4bf"
      }
    },
    {
      "cell_type": "markdown",
      "source": [
        "- Python code to convert the string \"hello\" to uppercase:"
      ],
      "metadata": {
        "id": "ispo7H7WB6pO"
      }
    },
    {
      "cell_type": "code",
      "source": [
        "# create a string\n",
        "text = \"hello\"\n",
        "\n",
        "# convert to uppercase\n",
        "upper_text = text.upper()\n",
        "\n",
        "# print the result\n",
        "print(\"Uppercase string is:\", upper_text)\n"
      ],
      "metadata": {
        "id": "3HMbc6DCB_Sv"
      },
      "execution_count": null,
      "outputs": []
    },
    {
      "cell_type": "markdown",
      "source": [
        "👉 Output:"
      ],
      "metadata": {
        "id": "zVVnNHuECBwd"
      }
    },
    {
      "cell_type": "code",
      "source": [
        "Uppercase string is: HELLO\n"
      ],
      "metadata": {
        "id": "7hbvCYF7CCfd"
      },
      "execution_count": null,
      "outputs": []
    },
    {
      "cell_type": "markdown",
      "source": [
        "5.Write a code to replace the word \"apple\" with \"orange\" in the string \"I like apple''"
      ],
      "metadata": {
        "id": "omyJPZfXCLrj"
      }
    },
    {
      "cell_type": "markdown",
      "source": [
        "- Python code to replace \"apple\" with \"orange\" in the string \"I like apple\":"
      ],
      "metadata": {
        "id": "bMSkx_oOCRK7"
      }
    },
    {
      "cell_type": "code",
      "source": [
        "# create a string\n",
        "text = \"I like apple\"\n",
        "\n",
        "# replace 'apple' with 'orange'\n",
        "new_text = text.replace(\"apple\", \"orange\")\n",
        "\n",
        "# print the result\n",
        "print(\"Modified string:\", new_text)\n"
      ],
      "metadata": {
        "id": "dUqs1vztCUpg"
      },
      "execution_count": null,
      "outputs": []
    },
    {
      "cell_type": "markdown",
      "source": [
        "👉 Output:"
      ],
      "metadata": {
        "id": "Cy8q0NwPCWfI"
      }
    },
    {
      "cell_type": "code",
      "source": [
        "Modified string: I like orange\n"
      ],
      "metadata": {
        "id": "WAKNCVPCCYsR"
      },
      "execution_count": null,
      "outputs": []
    },
    {
      "cell_type": "markdown",
      "source": [
        "6.Write a code to create a list with numbers 1 to 5 and print it"
      ],
      "metadata": {
        "id": "EsTujcjZCba1"
      }
    },
    {
      "cell_type": "markdown",
      "source": [
        "- Python code to create a list with numbers 1 to 5 and print it:"
      ],
      "metadata": {
        "id": "q3T4qWjGClqD"
      }
    },
    {
      "cell_type": "code",
      "source": [
        "# create a list with numbers 1 to 5\n",
        "numbers = [1, 2, 3, 4, 5]\n",
        "\n",
        "# print the list\n",
        "print(\"List of numbers:\", numbers)\n"
      ],
      "metadata": {
        "id": "lnEE_Lk3CoQd"
      },
      "execution_count": null,
      "outputs": []
    },
    {
      "cell_type": "markdown",
      "source": [
        "👉 Output:"
      ],
      "metadata": {
        "id": "b2osEkefCphz"
      }
    },
    {
      "cell_type": "code",
      "source": [
        "List of numbers: [1, 2, 3, 4, 5]\n"
      ],
      "metadata": {
        "id": "tJL7NQrXCsI5"
      },
      "execution_count": null,
      "outputs": []
    },
    {
      "cell_type": "markdown",
      "source": [
        "7.Write a code to append the number 10 to the list [1, 2, 3, 4]"
      ],
      "metadata": {
        "id": "AD5-eJ-BCx3v"
      }
    },
    {
      "cell_type": "markdown",
      "source": [
        "- Python code to append the number 10 to the list [1, 2, 3, 4]"
      ],
      "metadata": {
        "id": "W1jtb-7DC2bp"
      }
    },
    {
      "cell_type": "code",
      "source": [
        "# create a list\n",
        "numbers = [1, 2, 3, 4]\n",
        "\n",
        "# append number 10\n",
        "numbers.append(10)\n",
        "\n",
        "# print the updated list\n",
        "print(\"Updated list:\", numbers)\n"
      ],
      "metadata": {
        "id": "Ts_7iaIdC4AX"
      },
      "execution_count": null,
      "outputs": []
    },
    {
      "cell_type": "markdown",
      "source": [
        "👉 Output:"
      ],
      "metadata": {
        "id": "dJs80bmAC7pp"
      }
    },
    {
      "cell_type": "code",
      "source": [
        "Updated list: [1, 2, 3, 4, 10]\n"
      ],
      "metadata": {
        "id": "-ScFWnJPC8ef"
      },
      "execution_count": null,
      "outputs": []
    },
    {
      "cell_type": "markdown",
      "source": [
        "8.Write a code to remove the number 3 from the list [1, 2, 3, 4, 5]."
      ],
      "metadata": {
        "id": "UN_ODR1bDH93"
      }
    },
    {
      "cell_type": "markdown",
      "source": [
        "- Python code to remove the number 3 from the list [1, 2, 3, 4, 5]:"
      ],
      "metadata": {
        "id": "AChvYmH0DLuP"
      }
    },
    {
      "cell_type": "code",
      "source": [
        "# create a list\n",
        "numbers = [1, 2, 3, 4, 5]\n",
        "\n",
        "# remove number 3\n",
        "numbers.remove(3)\n",
        "\n",
        "# print the updated list\n",
        "print(\"Updated list:\", numbers)\n"
      ],
      "metadata": {
        "id": "39si0OZ9DQPf"
      },
      "execution_count": null,
      "outputs": []
    },
    {
      "cell_type": "markdown",
      "source": [
        "👉 Output:"
      ],
      "metadata": {
        "id": "JXWbgdLSDSy_"
      }
    },
    {
      "cell_type": "code",
      "source": [
        "Updated list: [1, 2, 4, 5]\n"
      ],
      "metadata": {
        "id": "RFj-buO-DTkD"
      },
      "execution_count": null,
      "outputs": []
    },
    {
      "cell_type": "markdown",
      "source": [
        "9.Write a code to access the second element in the list ['a', 'b', 'c', 'd']"
      ],
      "metadata": {
        "id": "XuFhoMtGDamM"
      }
    },
    {
      "cell_type": "markdown",
      "source": [
        "- A Python code to access the second element in the list ['a', 'b', 'c', 'd']:"
      ],
      "metadata": {
        "id": "7ijkLCL-DcJt"
      }
    },
    {
      "cell_type": "code",
      "source": [
        "# create a list\n",
        "letters = ['a', 'b', 'c', 'd']\n",
        "\n",
        "# access the second element (index 1)\n",
        "second_element = letters[1]\n",
        "\n",
        "# print the result\n",
        "print(\"Second element is:\", second_element)\n"
      ],
      "metadata": {
        "id": "ongLQ_LwDiw3"
      },
      "execution_count": null,
      "outputs": []
    },
    {
      "cell_type": "markdown",
      "source": [
        "👉 Output:"
      ],
      "metadata": {
        "id": "Z2YPnRAIDlVN"
      }
    },
    {
      "cell_type": "code",
      "source": [
        "Second element is: b\n"
      ],
      "metadata": {
        "id": "tic7Z0qfDnml"
      },
      "execution_count": null,
      "outputs": []
    },
    {
      "cell_type": "markdown",
      "source": [
        "10. Write a code to reverse the list [10, 20, 30, 40, 50]"
      ],
      "metadata": {
        "id": "M5uk9zVnDspN"
      }
    },
    {
      "cell_type": "markdown",
      "source": [
        "- Python code to reverse the list [10, 20, 30, 40, 50]:"
      ],
      "metadata": {
        "id": "YkrPdpz8Dxa7"
      }
    },
    {
      "cell_type": "code",
      "source": [
        "# create a list\n",
        "numbers = [10, 20, 30, 40, 50]\n",
        "\n",
        "# reverse the list\n",
        "numbers.reverse()\n",
        "\n",
        "# print the reversed list\n",
        "print(\"Reversed list:\", numbers)\n"
      ],
      "metadata": {
        "id": "__F0b-3nDz0B"
      },
      "execution_count": null,
      "outputs": []
    },
    {
      "cell_type": "markdown",
      "source": [
        "👉 Output:"
      ],
      "metadata": {
        "id": "JFqS72ZmD1CN"
      }
    },
    {
      "cell_type": "code",
      "source": [
        "Reversed list: [50, 40, 30, 20, 10]\n"
      ],
      "metadata": {
        "id": "R9n5xiGED4L1"
      },
      "execution_count": null,
      "outputs": []
    },
    {
      "cell_type": "markdown",
      "source": [
        "11.Write a code to create a tuple with the elements 100, 200, 300 and print it"
      ],
      "metadata": {
        "id": "yAaIa4zfKqED"
      }
    },
    {
      "cell_type": "markdown",
      "source": [
        "- Python code to create a tuple with the elements 100, 200, 300 and print it:"
      ],
      "metadata": {
        "id": "RBnWWC2XKyi2"
      }
    },
    {
      "cell_type": "code",
      "source": [
        "# Creating a tuple\n",
        "my_tuple = (100, 200, 300)\n",
        "\n",
        "# Printing the tuple\n",
        "print(my_tuple)\n"
      ],
      "metadata": {
        "id": "fGxWHmg8K2wZ"
      },
      "execution_count": null,
      "outputs": []
    },
    {
      "cell_type": "markdown",
      "source": [
        "👉 Output:"
      ],
      "metadata": {
        "id": "3lGKzzPvK6Bi"
      }
    },
    {
      "cell_type": "code",
      "source": [
        "(100, 200, 300)\n"
      ],
      "metadata": {
        "id": "6UFJsqmWK9aT"
      },
      "execution_count": null,
      "outputs": []
    },
    {
      "cell_type": "markdown",
      "source": [
        "12.Write a code to access the second-to-last element of the tuple ('red', 'green', 'blue', 'yellow')."
      ],
      "metadata": {
        "id": "jsZ6xeB7LDJI"
      }
    },
    {
      "cell_type": "markdown",
      "source": [
        "Python code to access the second-to-last element of the given tuple:"
      ],
      "metadata": {
        "id": "oXq_aFVtLJXS"
      }
    },
    {
      "cell_type": "code",
      "source": [
        "# Creating the tuple\n",
        "colors = ('red', 'green', 'blue', 'yellow')\n",
        "\n",
        "# Accessing the second-to-last element using negative indexing\n",
        "second_last = colors[-2]\n",
        "\n",
        "# Printing the element\n",
        "print(second_last)\n"
      ],
      "metadata": {
        "id": "CxGiNekiLLeE"
      },
      "execution_count": null,
      "outputs": []
    },
    {
      "cell_type": "markdown",
      "source": [
        "Output."
      ],
      "metadata": {
        "id": "VFmDotwWLMhO"
      }
    },
    {
      "cell_type": "code",
      "source": [
        "blue\n"
      ],
      "metadata": {
        "id": "RC6nY69mLO_I"
      },
      "execution_count": null,
      "outputs": []
    },
    {
      "cell_type": "markdown",
      "source": [
        "13.Write a code to find the minimum number in the tuple (10, 20, 5, 15)"
      ],
      "metadata": {
        "id": "B5anWFinLOVs"
      }
    },
    {
      "cell_type": "markdown",
      "source": [
        "- Python code to find the minimum number in the tuple:"
      ],
      "metadata": {
        "id": "J90LD8G3LXE9"
      }
    },
    {
      "cell_type": "code",
      "source": [
        "# Creating the tuple\n",
        "numbers = (10, 20, 5, 15)\n",
        "\n",
        "# Finding the minimum number\n",
        "minimum = min(numbers)\n",
        "\n",
        "# Printing the result\n",
        "print(minimum)\n"
      ],
      "metadata": {
        "id": "67UZPIs0LbnY"
      },
      "execution_count": null,
      "outputs": []
    },
    {
      "cell_type": "markdown",
      "source": [
        "Outut"
      ],
      "metadata": {
        "id": "zAVDXoEVLdyA"
      }
    },
    {
      "cell_type": "code",
      "source": [
        "5\n"
      ],
      "metadata": {
        "id": "UtHfzvA8LiiD"
      },
      "execution_count": null,
      "outputs": []
    },
    {
      "cell_type": "markdown",
      "source": [
        "14.Write a code to find the index of the element \"cat\" in the tuple ('dog', 'cat', 'rabbit')"
      ],
      "metadata": {
        "id": "H3qMg6_TLguH"
      }
    },
    {
      "cell_type": "markdown",
      "source": [
        "- Python code to find the index of \"cat\" in the tuple:"
      ],
      "metadata": {
        "id": "VR39zsFFLukm"
      }
    },
    {
      "cell_type": "code",
      "source": [
        "# Creating the tuple\n",
        "animals = ('dog', 'cat', 'rabbit')\n",
        "\n",
        "# Finding the index of \"cat\"\n",
        "index_cat = animals.index('cat')\n",
        "\n",
        "# Printing the result\n",
        "print(index_cat)\n"
      ],
      "metadata": {
        "id": "pTnl8vhWLxjA"
      },
      "execution_count": null,
      "outputs": []
    },
    {
      "cell_type": "markdown",
      "source": [
        "Output"
      ],
      "metadata": {
        "id": "rdo0CpKmLwUY"
      }
    },
    {
      "cell_type": "code",
      "source": [
        "1"
      ],
      "metadata": {
        "id": "UuiYL9LUL3Tl"
      },
      "execution_count": null,
      "outputs": []
    },
    {
      "cell_type": "markdown",
      "source": [
        "15.Write a code to create a tuple containing three different fruits and check if \"kiwi\" is in it"
      ],
      "metadata": {
        "id": "OZX-nlHzL-me"
      }
    },
    {
      "cell_type": "markdown",
      "source": [
        "- Python code to create a tuple with three fruits and check if \"kiwi\" is present:"
      ],
      "metadata": {
        "id": "iJylpmm7MAeL"
      }
    },
    {
      "cell_type": "code",
      "source": [
        "# Creating a tuple with three fruits\n",
        "fruits = ('apple', 'banana', 'mango')\n",
        "\n",
        "# Checking if \"kiwi\" is in the tuple\n",
        "if 'kiwi' in fruits:\n",
        "    print(\"Kiwi is in the tuple.\")\n",
        "else:\n",
        "    print(\"Kiwi is not in the tuple.\")\n"
      ],
      "metadata": {
        "id": "IPXqq7rJMed0"
      },
      "execution_count": null,
      "outputs": []
    },
    {
      "cell_type": "markdown",
      "source": [
        "Output"
      ],
      "metadata": {
        "id": "4QX7-d5MMfxF"
      }
    },
    {
      "cell_type": "code",
      "source": [
        "Kiwi is not in the tuple.\n"
      ],
      "metadata": {
        "id": "aZVS5cWwMifv"
      },
      "execution_count": null,
      "outputs": []
    },
    {
      "cell_type": "markdown",
      "source": [
        "16.Write a code to create a set with the elements 'a', 'b', 'c' and print it.\n"
      ],
      "metadata": {
        "id": "JJgNtmtHMoWd"
      }
    },
    {
      "cell_type": "markdown",
      "source": [
        "- Python code to create a set with elements 'a', 'b', and 'c' and print it:"
      ],
      "metadata": {
        "id": "M0ZWqSvoMqIz"
      }
    },
    {
      "cell_type": "code",
      "source": [
        "# Creating a set\n",
        "my_set = {'a', 'b', 'c'}\n",
        "\n",
        "# Printing the set\n",
        "print(my_set)\n"
      ],
      "metadata": {
        "id": "QnRewDi3Mu8B"
      },
      "execution_count": null,
      "outputs": []
    },
    {
      "cell_type": "markdown",
      "source": [
        "👉 Possible Output:"
      ],
      "metadata": {
        "id": "-wWPUjskMxPD"
      }
    },
    {
      "cell_type": "code",
      "source": [
        "{'a', 'c', 'b'}\n"
      ],
      "metadata": {
        "id": "bgOpJUUkMyFP"
      },
      "execution_count": null,
      "outputs": []
    },
    {
      "cell_type": "markdown",
      "source": [
        "Note: Sets are unordered, so the order of elements may change when printed."
      ],
      "metadata": {
        "id": "qug4wAFNM1bL"
      }
    },
    {
      "cell_type": "markdown",
      "source": [
        "17.Write a code to clear all elements from the set {1, 2, 3, 4, 5}"
      ],
      "metadata": {
        "id": "aiOwMGmwNEZc"
      }
    },
    {
      "cell_type": "markdown",
      "source": [
        "- Python code to clear all elements from the set:"
      ],
      "metadata": {
        "id": "93WpRZExNH4_"
      }
    },
    {
      "cell_type": "code",
      "source": [
        "# Creating the set\n",
        "numbers = {1, 2, 3, 4, 5}\n",
        "\n",
        "# Clearing all elements\n",
        "numbers.clear()\n",
        "\n",
        "# Printing the set after clearing\n",
        "print(numbers)\n"
      ],
      "metadata": {
        "id": "2444ysaENKZ9"
      },
      "execution_count": null,
      "outputs": []
    },
    {
      "cell_type": "markdown",
      "source": [
        "👉 Output:"
      ],
      "metadata": {
        "id": "PGOokEl9NLTF"
      }
    },
    {
      "cell_type": "code",
      "source": [
        "set()\n"
      ],
      "metadata": {
        "id": "zYQNj9m1NNq5"
      },
      "execution_count": null,
      "outputs": []
    },
    {
      "cell_type": "markdown",
      "source": [
        "(The set becomes empty.)"
      ],
      "metadata": {
        "id": "jT_AAYJjNSp1"
      }
    },
    {
      "cell_type": "markdown",
      "source": [
        "18.Write a code to remove the element 4 from the set {1, 2, 3, 4}."
      ],
      "metadata": {
        "id": "9K3D4jNyNZtR"
      }
    },
    {
      "cell_type": "markdown",
      "source": [
        "- Python code to remove the element 4 from the set:"
      ],
      "metadata": {
        "id": "lMkAJIEJNbWf"
      }
    },
    {
      "cell_type": "code",
      "source": [
        "# Creating the set\n",
        "numbers = {1, 2, 3, 4}\n",
        "\n",
        "# Removing the element 4\n",
        "numbers.remove(4)\n",
        "\n",
        "# Printing the updated set\n",
        "print(numbers)\n"
      ],
      "metadata": {
        "id": "sa2yhKKINd-R"
      },
      "execution_count": null,
      "outputs": []
    },
    {
      "cell_type": "markdown",
      "source": [
        "👉 Output:"
      ],
      "metadata": {
        "id": "aVwHiRP7NiHF"
      }
    },
    {
      "cell_type": "code",
      "source": [
        "{1, 2, 3}\n"
      ],
      "metadata": {
        "id": "l4VIEP3tNl93"
      },
      "execution_count": null,
      "outputs": []
    },
    {
      "cell_type": "markdown",
      "source": [
        "⚠️ Note: If 4 is not in the set, remove() will give an error.\n",
        "If you want to avoid errors, you can use .discard(4) instead."
      ],
      "metadata": {
        "id": "5MSVFq4KNkqh"
      }
    },
    {
      "cell_type": "markdown",
      "source": [
        "19. Write a code to find the union of two sets {1, 2, 3} and {3, 4, 5}"
      ],
      "metadata": {
        "id": "ETS9dryWNqcT"
      }
    },
    {
      "cell_type": "markdown",
      "source": [
        "- Python code to find the union of the two sets:"
      ],
      "metadata": {
        "id": "q6rFOOL0N0J1"
      }
    },
    {
      "cell_type": "code",
      "source": [
        "# Creating two sets\n",
        "set1 = {1, 2, 3}\n",
        "set2 = {3, 4, 5}\n",
        "\n",
        "# Finding the union\n",
        "union_set = set1.union(set2)\n",
        "\n",
        "# Printing the result\n",
        "print(union_set)\n"
      ],
      "metadata": {
        "id": "7VMEN0DBN3kl"
      },
      "execution_count": null,
      "outputs": []
    },
    {
      "cell_type": "markdown",
      "source": [
        "👉 Output:"
      ],
      "metadata": {
        "id": "ngdPJ2AhN6iD"
      }
    },
    {
      "cell_type": "code",
      "source": [
        "{1, 2, 3, 4, 5}\n"
      ],
      "metadata": {
        "id": "Z9r56LNGN7NV"
      },
      "execution_count": null,
      "outputs": []
    },
    {
      "cell_type": "markdown",
      "source": [
        "You can also use the | operator like this:"
      ],
      "metadata": {
        "id": "zmtQhf1cN85m"
      }
    },
    {
      "cell_type": "code",
      "source": [
        "union_set = set1 | set2\n"
      ],
      "metadata": {
        "id": "PgOOkjy3OBHg"
      },
      "execution_count": null,
      "outputs": []
    },
    {
      "cell_type": "markdown",
      "source": [
        "20.Write a code to find the intersection of two sets {1, 2, 3} and {2, 3, 4}"
      ],
      "metadata": {
        "id": "IVhV70ppOF23"
      }
    },
    {
      "cell_type": "markdown",
      "source": [
        "- Write a code to find the intersection of two sets {1, 2, 3} and {2, 3, 4}"
      ],
      "metadata": {
        "id": "V7gkiSzgOI9K"
      }
    },
    {
      "cell_type": "code",
      "source": [
        "# Creating two sets\n",
        "set1 = {1, 2, 3}\n",
        "set2 = {2, 3, 4}\n",
        "\n",
        "# Finding the intersection\n",
        "intersection_set = set1.intersection(set2)\n",
        "\n",
        "# Printing the result\n",
        "print(intersection_set)\n"
      ],
      "metadata": {
        "id": "jfx8DYHqOLsY"
      },
      "execution_count": null,
      "outputs": []
    },
    {
      "cell_type": "markdown",
      "source": [
        "Output"
      ],
      "metadata": {
        "id": "2vlTVylKONST"
      }
    },
    {
      "cell_type": "code",
      "source": [
        "{2, 3}\n"
      ],
      "metadata": {
        "id": "mLd-bBXqOO_t"
      },
      "execution_count": null,
      "outputs": []
    },
    {
      "cell_type": "markdown",
      "source": [
        "You can also use the & operator like this:"
      ],
      "metadata": {
        "id": "T9iDxB5WORCv"
      }
    },
    {
      "cell_type": "code",
      "source": [
        "intersection_set = set1 & set2\n"
      ],
      "metadata": {
        "id": "LO_YbhIYOW8h"
      },
      "execution_count": null,
      "outputs": []
    },
    {
      "cell_type": "markdown",
      "source": [
        "21.Write a code to create a dictionary with the keys \"name\", \"age\", and \"city\", and print it"
      ],
      "metadata": {
        "id": "TkXtSetfRBYr"
      }
    },
    {
      "cell_type": "markdown",
      "source": [
        "- Python code to create a dictionary with keys \"name\", \"age\", and \"city\", and print it:"
      ],
      "metadata": {
        "id": "32xPhkIDRGPz"
      }
    },
    {
      "cell_type": "code",
      "source": [
        "# Creating a dictionary\n",
        "person = {\n",
        "    \"name\": \"John\",\n",
        "    \"age\": 25,\n",
        "    \"city\": \"New York\"\n",
        "}\n",
        "\n",
        "# Printing the dictionary\n",
        "print(person)\n"
      ],
      "metadata": {
        "id": "QHxvMLkoRJQv"
      },
      "execution_count": null,
      "outputs": []
    },
    {
      "cell_type": "markdown",
      "source": [
        "Output"
      ],
      "metadata": {
        "id": "yL3NHwshRKM_"
      }
    },
    {
      "cell_type": "code",
      "source": [
        "{'name': 'John', 'age': 25, 'city': 'New York'}\n"
      ],
      "metadata": {
        "id": "xBeb5P__RL1J"
      },
      "execution_count": null,
      "outputs": []
    },
    {
      "cell_type": "markdown",
      "source": [
        "22.Write a code to add a new key-value pair \"country\": \"USA\" to the dictionary {'name': 'John', 'age': 25}."
      ],
      "metadata": {
        "id": "y6lvlZUfRRID"
      }
    },
    {
      "cell_type": "markdown",
      "source": [
        "- Python code to add a new key-value pair \"country\": \"USA\" to the dictionary:"
      ],
      "metadata": {
        "id": "Np2QI5b7RUbM"
      }
    },
    {
      "cell_type": "code",
      "source": [
        "# Creating the dictionary\n",
        "person = {'name': 'John', 'age': 25}\n",
        "\n",
        "# Adding a new key-value pair\n",
        "person['country'] = 'USA'\n",
        "\n",
        "# Printing the updated dictionary\n",
        "print(person)\n"
      ],
      "metadata": {
        "id": "o1WCOkOaRZ7F"
      },
      "execution_count": null,
      "outputs": []
    },
    {
      "cell_type": "markdown",
      "source": [
        "Output"
      ],
      "metadata": {
        "id": "Mf4ld-Y8Rb2w"
      }
    },
    {
      "cell_type": "code",
      "source": [
        "{'name': 'John', 'age': 25, 'country': 'USA'}\n"
      ],
      "metadata": {
        "id": "xrQR3JJjRdWL"
      },
      "execution_count": null,
      "outputs": []
    },
    {
      "cell_type": "markdown",
      "source": [
        "23.Write a code to access the value associated with the key \"name\" in the dictionary {'name': 'Alice', 'age': 30}"
      ],
      "metadata": {
        "id": "xwT_CjH5RjDM"
      }
    },
    {
      "cell_type": "markdown",
      "source": [
        "- Python code to access the value of the key \"name\":"
      ],
      "metadata": {
        "id": "oYLZXXMxRlUl"
      }
    },
    {
      "cell_type": "code",
      "source": [
        "# Creating the dictionary\n",
        "person = {'name': 'Alice', 'age': 30}\n",
        "\n",
        "# Accessing the value of \"name\"\n",
        "name_value = person['name']\n",
        "\n",
        "# Printing the value\n",
        "print(name_value)\n"
      ],
      "metadata": {
        "id": "9Lp2uxUJRpwZ"
      },
      "execution_count": null,
      "outputs": []
    },
    {
      "cell_type": "markdown",
      "source": [
        "Output"
      ],
      "metadata": {
        "id": "uqINeHXGRr7n"
      }
    },
    {
      "cell_type": "code",
      "source": [
        "Alice\n"
      ],
      "metadata": {
        "id": "s0HjUvHfRteV"
      },
      "execution_count": null,
      "outputs": []
    },
    {
      "cell_type": "markdown",
      "source": [
        "✅ Alternative (safer) way using .get() (avoids error if key is missing):"
      ],
      "metadata": {
        "id": "1ZgsThsPRwIO"
      }
    },
    {
      "cell_type": "code",
      "source": [
        "print(person.get('name'))\n"
      ],
      "metadata": {
        "id": "SWSUorcVRx2r"
      },
      "execution_count": null,
      "outputs": []
    },
    {
      "cell_type": "markdown",
      "source": [
        "24.Write a code to remove the key \"age\" from the dictionary {'name': 'Bob', 'age': 22, 'city': 'New York'}."
      ],
      "metadata": {
        "id": "t-NQI4XdR2hL"
      }
    },
    {
      "cell_type": "markdown",
      "source": [
        "- Python code to remove the key \"age\" from the dictionary:"
      ],
      "metadata": {
        "id": "qDlrvWTAR4Cv"
      }
    },
    {
      "cell_type": "code",
      "source": [
        "# Creating the dictionary\n",
        "person = {'name': 'Bob', 'age': 22, 'city': 'New York'}\n",
        "\n",
        "# Removing the key \"age\"\n",
        "person.pop('age')\n",
        "\n",
        "# Printing the updated dictionary\n",
        "print(person)\n"
      ],
      "metadata": {
        "id": "vgHSf1GKR7NK"
      },
      "execution_count": null,
      "outputs": []
    },
    {
      "cell_type": "markdown",
      "source": [
        "Output"
      ],
      "metadata": {
        "id": "xPjk7D6fR9AZ"
      }
    },
    {
      "cell_type": "code",
      "source": [
        "{'name': 'Bob', 'city': 'New York'}\n"
      ],
      "metadata": {
        "id": "QfH2DsrUR-c0"
      },
      "execution_count": null,
      "outputs": []
    },
    {
      "cell_type": "markdown",
      "source": [
        "✅ Alternative way:"
      ],
      "metadata": {
        "id": "BEgyNFyXSCPX"
      }
    },
    {
      "cell_type": "code",
      "source": [
        "del person['age']\n"
      ],
      "metadata": {
        "id": "r1lBlsrNSC_n"
      },
      "execution_count": null,
      "outputs": []
    },
    {
      "cell_type": "markdown",
      "source": [
        "25.Write a code to check if the key \"city\" exists in the dictionary {'name': 'Alice', 'city': 'Paris'}"
      ],
      "metadata": {
        "id": "HmvSoHPmSJ4n"
      }
    },
    {
      "cell_type": "markdown",
      "source": [
        "- Python code to check if the key \"city\" exists in the dictionary:"
      ],
      "metadata": {
        "id": "f6BGTG6pSLss"
      }
    },
    {
      "cell_type": "code",
      "source": [
        "# Creating the dictionary\n",
        "person = {'name': 'Alice', 'city': 'Paris'}\n",
        "\n",
        "# Checking if \"city\" exists\n",
        "if 'city' in person:\n",
        "    print(\"Key 'city' exists in the dictionary.\")\n",
        "else:\n",
        "    print(\"Key 'city' does not exist in the dictionary.\")\n"
      ],
      "metadata": {
        "id": "4k8jW5A9SQps"
      },
      "execution_count": null,
      "outputs": []
    },
    {
      "cell_type": "markdown",
      "source": [
        "Output"
      ],
      "metadata": {
        "id": "O-OHP0YWSTPB"
      }
    },
    {
      "cell_type": "code",
      "source": [
        "Key 'city' exists in the dictionary.\n"
      ],
      "metadata": {
        "id": "7Y8n-QN9SVTu"
      },
      "execution_count": null,
      "outputs": []
    },
    {
      "cell_type": "markdown",
      "source": [
        "26. Write a code to create a list, a tuple, and a dictionary, and print them all"
      ],
      "metadata": {
        "id": "kqsYs6h_SdvL"
      }
    },
    {
      "cell_type": "markdown",
      "source": [
        "- Python code that creates a list, a tuple, and a dictionary, then prints them all:"
      ],
      "metadata": {
        "id": "zwtpuzqzSgv9"
      }
    },
    {
      "cell_type": "code",
      "source": [
        "# Creating a list\n",
        "my_list = [1, 2, 3, 4, 5]\n",
        "\n",
        "# Creating a tuple\n",
        "my_tuple = ('apple', 'banana', 'cherry')\n",
        "\n",
        "# Creating a dictionary\n",
        "my_dict = {'name': 'Alice', 'age': 25, 'city': 'Paris'}\n",
        "\n",
        "# Printing them all\n",
        "print(\"List:\", my_list)\n",
        "print(\"Tuple:\", my_tuple)\n",
        "print(\"Dictionary:\", my_dict)\n"
      ],
      "metadata": {
        "id": "52QbvTo-SlTu"
      },
      "execution_count": null,
      "outputs": []
    },
    {
      "cell_type": "markdown",
      "source": [
        "Output"
      ],
      "metadata": {
        "id": "A1-HKzjUSnVz"
      }
    },
    {
      "cell_type": "code",
      "source": [
        "List: [1, 2, 3, 4, 5]\n",
        "Tuple: ('apple', 'banana', 'cherry')\n",
        "Dictionary: {'name': 'Alice', 'age': 25, 'city': 'Paris'}\n"
      ],
      "metadata": {
        "id": "AUurE3exSovr"
      },
      "execution_count": null,
      "outputs": []
    },
    {
      "cell_type": "markdown",
      "source": [
        "27. Write a code to create a list of 5 random numbers between 1 and 100, sort it in ascending order, and print the\n",
        "result.(replaced)"
      ],
      "metadata": {
        "id": "8WVlSZhKS6jP"
      }
    },
    {
      "cell_type": "markdown",
      "source": [
        "- Python code for that:"
      ],
      "metadata": {
        "id": "T6rLG_gMS9SM"
      }
    },
    {
      "cell_type": "code",
      "source": [
        "import random\n",
        "\n",
        "# Create a list of 5 random numbers between 1 and 100\n",
        "numbers = [random.randint(1, 100) for _ in range(5)]\n",
        "\n",
        "# Sort the list in ascending order\n",
        "numbers.sort()\n",
        "\n",
        "# Print the result\n",
        "print(\"Sorted list:\", numbers)\n"
      ],
      "metadata": {
        "id": "HbtM_0iwT3sd"
      },
      "execution_count": null,
      "outputs": []
    },
    {
      "cell_type": "markdown",
      "source": [
        "This will generate 5 random numbers between 1 and 100, sort them, and print the sorted list."
      ],
      "metadata": {
        "id": "mpp01g7nT7Bc"
      }
    },
    {
      "cell_type": "markdown",
      "source": [
        "28.Write a code to create a list with strings and print the element at the third index"
      ],
      "metadata": {
        "id": "Jue0Y0O0T_aP"
      }
    },
    {
      "cell_type": "markdown",
      "source": [
        "- Python code for that:"
      ],
      "metadata": {
        "id": "WmyBwAgLUBXW"
      }
    },
    {
      "cell_type": "code",
      "source": [
        "# Create a list with strings\n",
        "fruits = [\"apple\", \"banana\", \"cherry\", \"mango\", \"orange\"]\n",
        "\n",
        "# Print the element at the third index (indexing starts from 0)\n",
        "print(\"Element at third index:\", fruits[3])\n"
      ],
      "metadata": {
        "id": "9uyMB0fHUHsi"
      },
      "execution_count": null,
      "outputs": []
    },
    {
      "cell_type": "markdown",
      "source": [
        "👉 Output will be:"
      ],
      "metadata": {
        "id": "IIeTNQHeUGWY"
      }
    },
    {
      "cell_type": "code",
      "source": [
        "Element at third index: mango\n"
      ],
      "metadata": {
        "id": "fSyMQB_oUK-E"
      },
      "execution_count": null,
      "outputs": []
    },
    {
      "cell_type": "markdown",
      "source": [
        "29.Write a code to combine two dictionaries into one and print the result"
      ],
      "metadata": {
        "id": "tPhykR3eURDc"
      }
    },
    {
      "cell_type": "markdown",
      "source": [
        "- Python code to combine two dictionaries and print the result:"
      ],
      "metadata": {
        "id": "9gR9apWxUS1B"
      }
    },
    {
      "cell_type": "code",
      "source": [
        "# Create two dictionaries\n",
        "dict1 = {\"name\": \"Alice\", \"age\": 25}\n",
        "dict2 = {\"city\": \"Paris\", \"country\": \"France\"}\n",
        "\n",
        "# Combine dictionaries\n",
        "combined_dict = {**dict1, **dict2}\n",
        "\n",
        "# Print the result\n",
        "print(\"Combined dictionary:\", combined_dict)\n"
      ],
      "metadata": {
        "id": "4rTAPFCpUXIT"
      },
      "execution_count": null,
      "outputs": []
    },
    {
      "cell_type": "markdown",
      "source": [
        "👉 Output will be:"
      ],
      "metadata": {
        "id": "vN9UBFZXUZ2U"
      }
    },
    {
      "cell_type": "code",
      "source": [
        "Combined dictionary: {'name': 'Alice', 'age': 25, 'city': 'Paris', 'country': 'France'}\n"
      ],
      "metadata": {
        "id": "UjJUWvxjUbn7"
      },
      "execution_count": null,
      "outputs": []
    },
    {
      "cell_type": "markdown",
      "source": [
        "30.Write a code to convert a list of strings into a set"
      ],
      "metadata": {
        "id": "alspOaCPUfu6"
      }
    },
    {
      "cell_type": "markdown",
      "source": [
        "- Python code to convert a list of strings into a set:"
      ],
      "metadata": {
        "id": "_ycGXVyPUg97"
      }
    },
    {
      "cell_type": "code",
      "source": [
        "# Create a list of strings\n",
        "fruits = [\"apple\", \"banana\", \"cherry\", \"apple\", \"banana\"]\n",
        "\n",
        "# Convert list to set\n",
        "fruits_set = set(fruits)\n",
        "\n",
        "# Print the result\n",
        "print(\"Set:\", fruits_set)\n"
      ],
      "metadata": {
        "id": "QbZgfQPCUkWE"
      },
      "execution_count": null,
      "outputs": []
    },
    {
      "cell_type": "markdown",
      "source": [
        "👉 Output will be something like:"
      ],
      "metadata": {
        "id": "k20C1EjbUn6k"
      }
    },
    {
      "cell_type": "code",
      "source": [
        "Set: {'apple', 'banana', 'cherry'}\n"
      ],
      "metadata": {
        "id": "JzXNMvouUqFq"
      },
      "execution_count": null,
      "outputs": []
    },
    {
      "cell_type": "markdown",
      "source": [
        "(Sets automatically remove duplicates and don’t keep order.)"
      ],
      "metadata": {
        "id": "nGOIza6zUtF0"
      }
    }
  ]
}